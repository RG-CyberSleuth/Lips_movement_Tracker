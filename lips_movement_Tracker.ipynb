{
  "cells": [
    {
      "cell_type": "markdown",
      "metadata": {
        "id": "view-in-github",
        "colab_type": "text"
      },
      "source": [
        "<a href=\"https://colab.research.google.com/github/RG-CyberSleuth/Lips_movement_Tracker/blob/main/lips_movement_Tracker.ipynb\" target=\"_parent\"><img src=\"https://colab.research.google.com/assets/colab-badge.svg\" alt=\"Open In Colab\"/></a>"
      ]
    },
    {
      "cell_type": "code",
      "execution_count": null,
      "metadata": {
        "colab": {
          "base_uri": "https://localhost:8080/"
        },
        "id": "HOPrlNvEnYsL",
        "outputId": "b5b3bcc4-6c01-4251-a91b-017516153afd",
        "collapsed": true
      },
      "outputs": [
        {
          "output_type": "stream",
          "name": "stdout",
          "text": [
            "Requirement already satisfied: opencv-python in /usr/local/lib/python3.10/dist-packages (4.8.0.76)\n",
            "Requirement already satisfied: matplotlib in /usr/local/lib/python3.10/dist-packages (3.7.1)\n",
            "Requirement already satisfied: imageio in /usr/local/lib/python3.10/dist-packages (2.31.6)\n",
            "Requirement already satisfied: gdown in /usr/local/lib/python3.10/dist-packages (5.1.0)\n",
            "Requirement already satisfied: tensorflow in /usr/local/lib/python3.10/dist-packages (2.15.0)\n",
            "Requirement already satisfied: numpy>=1.21.2 in /usr/local/lib/python3.10/dist-packages (from opencv-python) (1.25.2)\n",
            "Requirement already satisfied: contourpy>=1.0.1 in /usr/local/lib/python3.10/dist-packages (from matplotlib) (1.2.1)\n",
            "Requirement already satisfied: cycler>=0.10 in /usr/local/lib/python3.10/dist-packages (from matplotlib) (0.12.1)\n",
            "Requirement already satisfied: fonttools>=4.22.0 in /usr/local/lib/python3.10/dist-packages (from matplotlib) (4.53.0)\n",
            "Requirement already satisfied: kiwisolver>=1.0.1 in /usr/local/lib/python3.10/dist-packages (from matplotlib) (1.4.5)\n",
            "Requirement already satisfied: packaging>=20.0 in /usr/local/lib/python3.10/dist-packages (from matplotlib) (24.1)\n",
            "Requirement already satisfied: pillow>=6.2.0 in /usr/local/lib/python3.10/dist-packages (from matplotlib) (9.4.0)\n",
            "Requirement already satisfied: pyparsing>=2.3.1 in /usr/local/lib/python3.10/dist-packages (from matplotlib) (3.1.2)\n",
            "Requirement already satisfied: python-dateutil>=2.7 in /usr/local/lib/python3.10/dist-packages (from matplotlib) (2.8.2)\n",
            "Requirement already satisfied: beautifulsoup4 in /usr/local/lib/python3.10/dist-packages (from gdown) (4.12.3)\n",
            "Requirement already satisfied: filelock in /usr/local/lib/python3.10/dist-packages (from gdown) (3.15.3)\n",
            "Requirement already satisfied: requests[socks] in /usr/local/lib/python3.10/dist-packages (from gdown) (2.31.0)\n",
            "Requirement already satisfied: tqdm in /usr/local/lib/python3.10/dist-packages (from gdown) (4.66.4)\n",
            "Requirement already satisfied: absl-py>=1.0.0 in /usr/local/lib/python3.10/dist-packages (from tensorflow) (1.4.0)\n",
            "Requirement already satisfied: astunparse>=1.6.0 in /usr/local/lib/python3.10/dist-packages (from tensorflow) (1.6.3)\n",
            "Requirement already satisfied: flatbuffers>=23.5.26 in /usr/local/lib/python3.10/dist-packages (from tensorflow) (24.3.25)\n",
            "Requirement already satisfied: gast!=0.5.0,!=0.5.1,!=0.5.2,>=0.2.1 in /usr/local/lib/python3.10/dist-packages (from tensorflow) (0.5.4)\n",
            "Requirement already satisfied: google-pasta>=0.1.1 in /usr/local/lib/python3.10/dist-packages (from tensorflow) (0.2.0)\n",
            "Requirement already satisfied: h5py>=2.9.0 in /usr/local/lib/python3.10/dist-packages (from tensorflow) (3.9.0)\n",
            "Requirement already satisfied: libclang>=13.0.0 in /usr/local/lib/python3.10/dist-packages (from tensorflow) (18.1.1)\n",
            "Requirement already satisfied: ml-dtypes~=0.2.0 in /usr/local/lib/python3.10/dist-packages (from tensorflow) (0.2.0)\n",
            "Requirement already satisfied: opt-einsum>=2.3.2 in /usr/local/lib/python3.10/dist-packages (from tensorflow) (3.3.0)\n",
            "Requirement already satisfied: protobuf!=4.21.0,!=4.21.1,!=4.21.2,!=4.21.3,!=4.21.4,!=4.21.5,<5.0.0dev,>=3.20.3 in /usr/local/lib/python3.10/dist-packages (from tensorflow) (3.20.3)\n",
            "Requirement already satisfied: setuptools in /usr/local/lib/python3.10/dist-packages (from tensorflow) (67.7.2)\n",
            "Requirement already satisfied: six>=1.12.0 in /usr/local/lib/python3.10/dist-packages (from tensorflow) (1.16.0)\n",
            "Requirement already satisfied: termcolor>=1.1.0 in /usr/local/lib/python3.10/dist-packages (from tensorflow) (2.4.0)\n",
            "Requirement already satisfied: typing-extensions>=3.6.6 in /usr/local/lib/python3.10/dist-packages (from tensorflow) (4.12.2)\n",
            "Requirement already satisfied: wrapt<1.15,>=1.11.0 in /usr/local/lib/python3.10/dist-packages (from tensorflow) (1.14.1)\n",
            "Requirement already satisfied: tensorflow-io-gcs-filesystem>=0.23.1 in /usr/local/lib/python3.10/dist-packages (from tensorflow) (0.37.0)\n",
            "Requirement already satisfied: grpcio<2.0,>=1.24.3 in /usr/local/lib/python3.10/dist-packages (from tensorflow) (1.64.1)\n",
            "Requirement already satisfied: tensorboard<2.16,>=2.15 in /usr/local/lib/python3.10/dist-packages (from tensorflow) (2.15.2)\n",
            "Requirement already satisfied: tensorflow-estimator<2.16,>=2.15.0 in /usr/local/lib/python3.10/dist-packages (from tensorflow) (2.15.0)\n",
            "Requirement already satisfied: keras<2.16,>=2.15.0 in /usr/local/lib/python3.10/dist-packages (from tensorflow) (2.15.0)\n",
            "Requirement already satisfied: wheel<1.0,>=0.23.0 in /usr/local/lib/python3.10/dist-packages (from astunparse>=1.6.0->tensorflow) (0.43.0)\n",
            "Requirement already satisfied: google-auth<3,>=1.6.3 in /usr/local/lib/python3.10/dist-packages (from tensorboard<2.16,>=2.15->tensorflow) (2.27.0)\n",
            "Requirement already satisfied: google-auth-oauthlib<2,>=0.5 in /usr/local/lib/python3.10/dist-packages (from tensorboard<2.16,>=2.15->tensorflow) (1.2.0)\n",
            "Requirement already satisfied: markdown>=2.6.8 in /usr/local/lib/python3.10/dist-packages (from tensorboard<2.16,>=2.15->tensorflow) (3.6)\n",
            "Requirement already satisfied: tensorboard-data-server<0.8.0,>=0.7.0 in /usr/local/lib/python3.10/dist-packages (from tensorboard<2.16,>=2.15->tensorflow) (0.7.2)\n",
            "Requirement already satisfied: werkzeug>=1.0.1 in /usr/local/lib/python3.10/dist-packages (from tensorboard<2.16,>=2.15->tensorflow) (3.0.3)\n",
            "Requirement already satisfied: soupsieve>1.2 in /usr/local/lib/python3.10/dist-packages (from beautifulsoup4->gdown) (2.5)\n",
            "Requirement already satisfied: charset-normalizer<4,>=2 in /usr/local/lib/python3.10/dist-packages (from requests[socks]->gdown) (3.3.2)\n",
            "Requirement already satisfied: idna<4,>=2.5 in /usr/local/lib/python3.10/dist-packages (from requests[socks]->gdown) (3.7)\n",
            "Requirement already satisfied: urllib3<3,>=1.21.1 in /usr/local/lib/python3.10/dist-packages (from requests[socks]->gdown) (2.0.7)\n",
            "Requirement already satisfied: certifi>=2017.4.17 in /usr/local/lib/python3.10/dist-packages (from requests[socks]->gdown) (2024.6.2)\n",
            "Requirement already satisfied: PySocks!=1.5.7,>=1.5.6 in /usr/local/lib/python3.10/dist-packages (from requests[socks]->gdown) (1.7.1)\n",
            "Requirement already satisfied: cachetools<6.0,>=2.0.0 in /usr/local/lib/python3.10/dist-packages (from google-auth<3,>=1.6.3->tensorboard<2.16,>=2.15->tensorflow) (5.3.3)\n",
            "Requirement already satisfied: pyasn1-modules>=0.2.1 in /usr/local/lib/python3.10/dist-packages (from google-auth<3,>=1.6.3->tensorboard<2.16,>=2.15->tensorflow) (0.4.0)\n",
            "Requirement already satisfied: rsa<5,>=3.1.4 in /usr/local/lib/python3.10/dist-packages (from google-auth<3,>=1.6.3->tensorboard<2.16,>=2.15->tensorflow) (4.9)\n",
            "Requirement already satisfied: requests-oauthlib>=0.7.0 in /usr/local/lib/python3.10/dist-packages (from google-auth-oauthlib<2,>=0.5->tensorboard<2.16,>=2.15->tensorflow) (1.3.1)\n",
            "Requirement already satisfied: MarkupSafe>=2.1.1 in /usr/local/lib/python3.10/dist-packages (from werkzeug>=1.0.1->tensorboard<2.16,>=2.15->tensorflow) (2.1.5)\n",
            "Requirement already satisfied: pyasn1<0.7.0,>=0.4.6 in /usr/local/lib/python3.10/dist-packages (from pyasn1-modules>=0.2.1->google-auth<3,>=1.6.3->tensorboard<2.16,>=2.15->tensorflow) (0.6.0)\n",
            "Requirement already satisfied: oauthlib>=3.0.0 in /usr/local/lib/python3.10/dist-packages (from requests-oauthlib>=0.7.0->google-auth-oauthlib<2,>=0.5->tensorboard<2.16,>=2.15->tensorflow) (3.2.2)\n"
          ]
        }
      ],
      "source": [
        "!pip install opencv-python matplotlib imageio gdown tensorflow"
      ]
    },
    {
      "cell_type": "code",
      "execution_count": null,
      "metadata": {
        "id": "o95G1GOBnj9o"
      },
      "outputs": [],
      "source": [
        "import os\n",
        "import cv2\n",
        "import tensorflow as tf\n",
        "import numpy as np\n",
        "from typing import List\n",
        "from matplotlib import pyplot as plt\n",
        "import imageio"
      ]
    },
    {
      "cell_type": "code",
      "execution_count": null,
      "metadata": {
        "colab": {
          "base_uri": "https://localhost:8080/"
        },
        "id": "yxmDQXA6npEZ",
        "outputId": "5f365435-9e8f-4bdd-c341-4a2b8c7b4744"
      },
      "outputs": [
        {
          "output_type": "execute_result",
          "data": {
            "text/plain": [
              "[PhysicalDevice(name='/physical_device:GPU:0', device_type='GPU')]"
            ]
          },
          "metadata": {},
          "execution_count": 2
        }
      ],
      "source": [
        "tf.config.list_physical_devices('GPU')"
      ]
    },
    {
      "cell_type": "code",
      "execution_count": null,
      "metadata": {
        "id": "7nmU3rRKnrQy"
      },
      "outputs": [],
      "source": [
        "physical_devices = tf.config.list_physical_devices('GPU')\n",
        "try:\n",
        "    tf.config.experimental.set_memory_growth(physical_devices[0], True)\n",
        "except:\n",
        "    pass"
      ]
    },
    {
      "cell_type": "code",
      "execution_count": null,
      "metadata": {
        "id": "dHFdMlatntay"
      },
      "outputs": [],
      "source": [
        "import gdown"
      ]
    },
    {
      "cell_type": "code",
      "execution_count": null,
      "metadata": {
        "colab": {
          "base_uri": "https://localhost:8080/"
        },
        "id": "d8v0f1fbnw_8",
        "outputId": "efc91c09-b96b-4f16-a2ce-2020216d2ee7"
      },
      "outputs": [
        {
          "output_type": "stream",
          "name": "stderr",
          "text": [
            "Downloading...\n",
            "From (original): https://drive.google.com/uc?id=1YlvpDLix3S-U8fd-gqRwPcWXAXm8JwjL\n",
            "From (redirected): https://drive.google.com/uc?id=1YlvpDLix3S-U8fd-gqRwPcWXAXm8JwjL&confirm=t&uuid=8e7469b4-b3b0-4f46-93a8-c4b4171aea32\n",
            "To: /content/data.zip\n",
            "100%|██████████| 423M/423M [00:04<00:00, 105MB/s] \n"
          ]
        },
        {
          "output_type": "execute_result",
          "data": {
            "text/plain": [
              "['data/',\n",
              " 'data/alignments/',\n",
              " 'data/alignments/s1/',\n",
              " 'data/alignments/s1/bbaf2n.align',\n",
              " 'data/alignments/s1/bbaf3s.align',\n",
              " 'data/alignments/s1/bbaf4p.align',\n",
              " 'data/alignments/s1/bbaf5a.align',\n",
              " 'data/alignments/s1/bbal6n.align',\n",
              " 'data/alignments/s1/bbal7s.align',\n",
              " 'data/alignments/s1/bbal8p.align',\n",
              " 'data/alignments/s1/bbal9a.align',\n",
              " 'data/alignments/s1/bbas1s.align',\n",
              " 'data/alignments/s1/bbas2p.align',\n",
              " 'data/alignments/s1/bbas3a.align',\n",
              " 'data/alignments/s1/bbaszn.align',\n",
              " 'data/alignments/s1/bbaz4n.align',\n",
              " 'data/alignments/s1/bbaz5s.align',\n",
              " 'data/alignments/s1/bbaz6p.align',\n",
              " 'data/alignments/s1/bbaz7a.align',\n",
              " 'data/alignments/s1/bbbf6n.align',\n",
              " 'data/alignments/s1/bbbf7s.align',\n",
              " 'data/alignments/s1/bbbf8p.align',\n",
              " 'data/alignments/s1/bbbf9a.align',\n",
              " 'data/alignments/s1/bbbm1s.align',\n",
              " 'data/alignments/s1/bbbm2p.align',\n",
              " 'data/alignments/s1/bbbm3a.align',\n",
              " 'data/alignments/s1/bbbmzn.align',\n",
              " 'data/alignments/s1/bbbs4n.align',\n",
              " 'data/alignments/s1/bbbs5s.align',\n",
              " 'data/alignments/s1/bbbs6p.align',\n",
              " 'data/alignments/s1/bbbs7a.align',\n",
              " 'data/alignments/s1/bbbz8n.align',\n",
              " 'data/alignments/s1/bbbz9s.align',\n",
              " 'data/alignments/s1/bbie8n.align',\n",
              " 'data/alignments/s1/bbie9s.align',\n",
              " 'data/alignments/s1/bbif1a.align',\n",
              " 'data/alignments/s1/bbifzp.align',\n",
              " 'data/alignments/s1/bbil2n.align',\n",
              " 'data/alignments/s1/bbil3s.align',\n",
              " 'data/alignments/s1/bbil4p.align',\n",
              " 'data/alignments/s1/bbil5a.align',\n",
              " 'data/alignments/s1/bbir6n.align',\n",
              " 'data/alignments/s1/bbir7s.align',\n",
              " 'data/alignments/s1/bbir8p.align',\n",
              " 'data/alignments/s1/bbir9a.align',\n",
              " 'data/alignments/s1/bbiz1s.align',\n",
              " 'data/alignments/s1/bbiz2p.align',\n",
              " 'data/alignments/s1/bbiz3a.align',\n",
              " 'data/alignments/s1/bbizzn.align',\n",
              " 'data/alignments/s1/bbwg1s.align',\n",
              " 'data/alignments/s1/bbwg2p.align',\n",
              " 'data/alignments/s1/bbwg3a.align',\n",
              " 'data/alignments/s1/bbwgzn.align',\n",
              " 'data/alignments/s1/bbwm4n.align',\n",
              " 'data/alignments/s1/bbwm5s.align',\n",
              " 'data/alignments/s1/bbwm6p.align',\n",
              " 'data/alignments/s1/bbwm7a.align',\n",
              " 'data/alignments/s1/bbws8n.align',\n",
              " 'data/alignments/s1/bbws9s.align',\n",
              " 'data/alignments/s1/bbwt1a.align',\n",
              " 'data/alignments/s1/bbwtzp.align',\n",
              " 'data/alignments/s1/bgaa6n.align',\n",
              " 'data/alignments/s1/bgaa7s.align',\n",
              " 'data/alignments/s1/bgaa8p.align',\n",
              " 'data/alignments/s1/bgaa9a.align',\n",
              " 'data/alignments/s1/bgah1s.align',\n",
              " 'data/alignments/s1/bgah2p.align',\n",
              " 'data/alignments/s1/bgah3a.align',\n",
              " 'data/alignments/s1/bgahzn.align',\n",
              " 'data/alignments/s1/bgan4n.align',\n",
              " 'data/alignments/s1/bgan5s.align',\n",
              " 'data/alignments/s1/bgan6p.align',\n",
              " 'data/alignments/s1/bgan7a.align',\n",
              " 'data/alignments/s1/bgat8n.align',\n",
              " 'data/alignments/s1/bgat9s.align',\n",
              " 'data/alignments/s1/bgau1a.align',\n",
              " 'data/alignments/s1/bgauzp.align',\n",
              " 'data/alignments/s1/bgbb1s.align',\n",
              " 'data/alignments/s1/bgbb2p.align',\n",
              " 'data/alignments/s1/bgbb3a.align',\n",
              " 'data/alignments/s1/bgbbzn.align',\n",
              " 'data/alignments/s1/bgbh4n.align',\n",
              " 'data/alignments/s1/bgbh5s.align',\n",
              " 'data/alignments/s1/bgbh6p.align',\n",
              " 'data/alignments/s1/bgbh7a.align',\n",
              " 'data/alignments/s1/bgbn8n.align',\n",
              " 'data/alignments/s1/bgbn9s.align',\n",
              " 'data/alignments/s1/bgbo1a.align',\n",
              " 'data/alignments/s1/bgbozp.align',\n",
              " 'data/alignments/s1/bgbu2n.align',\n",
              " 'data/alignments/s1/bgbu3s.align',\n",
              " 'data/alignments/s1/bgbu4p.align',\n",
              " 'data/alignments/s1/bgbu5a.align',\n",
              " 'data/alignments/s1/bgia2n.align',\n",
              " 'data/alignments/s1/bgia3s.align',\n",
              " 'data/alignments/s1/bgia4p.align',\n",
              " 'data/alignments/s1/bgia5a.align',\n",
              " 'data/alignments/s1/bgig6n.align',\n",
              " 'data/alignments/s1/bgig7s.align',\n",
              " 'data/alignments/s1/bgig8p.align',\n",
              " 'data/alignments/s1/bgig9a.align',\n",
              " 'data/alignments/s1/bgin1s.align',\n",
              " 'data/alignments/s1/bgin2p.align',\n",
              " 'data/alignments/s1/bgin3a.align',\n",
              " 'data/alignments/s1/bginzn.align',\n",
              " 'data/alignments/s1/bgit4n.align',\n",
              " 'data/alignments/s1/bgit5s.align',\n",
              " 'data/alignments/s1/bgit6p.align',\n",
              " 'data/alignments/s1/bgit7a.align',\n",
              " 'data/alignments/s1/bgwb4n.align',\n",
              " 'data/alignments/s1/bgwb5s.align',\n",
              " 'data/alignments/s1/bgwb6p.align',\n",
              " 'data/alignments/s1/bgwb7a.align',\n",
              " 'data/alignments/s1/bgwh8n.align',\n",
              " 'data/alignments/s1/bgwh9s.align',\n",
              " 'data/alignments/s1/bgwi1a.align',\n",
              " 'data/alignments/s1/bgwizp.align',\n",
              " 'data/alignments/s1/bgwo2n.align',\n",
              " 'data/alignments/s1/bgwo3s.align',\n",
              " 'data/alignments/s1/bgwo4p.align',\n",
              " 'data/alignments/s1/bgwo5a.align',\n",
              " 'data/alignments/s1/bgwu6n.align',\n",
              " 'data/alignments/s1/bgwu7s.align',\n",
              " 'data/alignments/s1/bgwu8p.align',\n",
              " 'data/alignments/s1/bgwu9a.align',\n",
              " 'data/alignments/s1/braf8n.align',\n",
              " 'data/alignments/s1/braf9s.align',\n",
              " 'data/alignments/s1/brag1a.align',\n",
              " 'data/alignments/s1/bragzp.align',\n",
              " 'data/alignments/s1/bram2n.align',\n",
              " 'data/alignments/s1/bram3s.align',\n",
              " 'data/alignments/s1/bram4p.align',\n",
              " 'data/alignments/s1/bram5a.align',\n",
              " 'data/alignments/s1/bras6n.align',\n",
              " 'data/alignments/s1/bras7s.align',\n",
              " 'data/alignments/s1/bras8p.align',\n",
              " 'data/alignments/s1/bras9a.align',\n",
              " 'data/alignments/s1/brba1a.align',\n",
              " 'data/alignments/s1/brbazp.align',\n",
              " 'data/alignments/s1/brbg2n.align',\n",
              " 'data/alignments/s1/brbg3s.align',\n",
              " 'data/alignments/s1/brbg4p.align',\n",
              " 'data/alignments/s1/brbg5a.align',\n",
              " 'data/alignments/s1/brbm6n.align',\n",
              " 'data/alignments/s1/brbm7s.align',\n",
              " 'data/alignments/s1/brbm8p.align',\n",
              " 'data/alignments/s1/brbm9a.align',\n",
              " 'data/alignments/s1/brbt1s.align',\n",
              " 'data/alignments/s1/brbt2p.align',\n",
              " 'data/alignments/s1/brbt3a.align',\n",
              " 'data/alignments/s1/brbtzn.align',\n",
              " 'data/alignments/s1/brif4n.align',\n",
              " 'data/alignments/s1/brif5s.align',\n",
              " 'data/alignments/s1/brif6p.align',\n",
              " 'data/alignments/s1/brif7a.align',\n",
              " 'data/alignments/s1/bril8n.align',\n",
              " 'data/alignments/s1/bril9s.align',\n",
              " 'data/alignments/s1/brim1a.align',\n",
              " 'data/alignments/s1/brimzp.align',\n",
              " 'data/alignments/s1/bris2n.align',\n",
              " 'data/alignments/s1/bris3s.align',\n",
              " 'data/alignments/s1/bris4p.align',\n",
              " 'data/alignments/s1/bris5a.align',\n",
              " 'data/alignments/s1/briz6n.align',\n",
              " 'data/alignments/s1/briz7s.align',\n",
              " 'data/alignments/s1/briz8p.align',\n",
              " 'data/alignments/s1/briz9a.align',\n",
              " 'data/alignments/s1/brwa2n.align',\n",
              " 'data/alignments/s1/brwa3s.align',\n",
              " 'data/alignments/s1/brwa4p.align',\n",
              " 'data/alignments/s1/brwa5a.align',\n",
              " 'data/alignments/s1/brwg6n.align',\n",
              " 'data/alignments/s1/brwg7s.align',\n",
              " 'data/alignments/s1/brwg8p.align',\n",
              " 'data/alignments/s1/brwg9a.align',\n",
              " 'data/alignments/s1/brwn1s.align',\n",
              " 'data/alignments/s1/brwn2p.align',\n",
              " 'data/alignments/s1/brwn3a.align',\n",
              " 'data/alignments/s1/brwnzn.align',\n",
              " 'data/alignments/s1/brwt4n.align',\n",
              " 'data/alignments/s1/brwt5s.align',\n",
              " 'data/alignments/s1/brwt6p.align',\n",
              " 'data/alignments/s1/brwt7a.align',\n",
              " 'data/alignments/s1/bwaa1s.align',\n",
              " 'data/alignments/s1/bwaa2p.align',\n",
              " 'data/alignments/s1/bwaa3a.align',\n",
              " 'data/alignments/s1/bwaazn.align',\n",
              " 'data/alignments/s1/bwag4n.align',\n",
              " 'data/alignments/s1/bwag5s.align',\n",
              " 'data/alignments/s1/bwag6p.align',\n",
              " 'data/alignments/s1/bwag7a.align',\n",
              " 'data/alignments/s1/bwam8n.align',\n",
              " 'data/alignments/s1/bwam9s.align',\n",
              " 'data/alignments/s1/bwan1a.align',\n",
              " 'data/alignments/s1/bwanzp.align',\n",
              " 'data/alignments/s1/bwat2n.align',\n",
              " 'data/alignments/s1/bwat3s.align',\n",
              " 'data/alignments/s1/bwat4p.align',\n",
              " 'data/alignments/s1/bwat5a.align',\n",
              " 'data/alignments/s1/bwba4n.align',\n",
              " 'data/alignments/s1/bwba5s.align',\n",
              " 'data/alignments/s1/bwba6p.align',\n",
              " 'data/alignments/s1/bwba7a.align',\n",
              " 'data/alignments/s1/bwbg8n.align',\n",
              " 'data/alignments/s1/bwbg9s.align',\n",
              " 'data/alignments/s1/bwbh1a.align',\n",
              " 'data/alignments/s1/bwbhzp.align',\n",
              " 'data/alignments/s1/bwbn2n.align',\n",
              " 'data/alignments/s1/bwbn3s.align',\n",
              " 'data/alignments/s1/bwbn4p.align',\n",
              " 'data/alignments/s1/bwbn5a.align',\n",
              " 'data/alignments/s1/bwbt6n.align',\n",
              " 'data/alignments/s1/bwbt7s.align',\n",
              " 'data/alignments/s1/bwbt8p.align',\n",
              " 'data/alignments/s1/bwbt9a.align',\n",
              " 'data/alignments/s1/bwig1s.align',\n",
              " 'data/alignments/s1/bwig2p.align',\n",
              " 'data/alignments/s1/bwig3a.align',\n",
              " 'data/alignments/s1/bwigzn.align',\n",
              " 'data/alignments/s1/bwim4n.align',\n",
              " 'data/alignments/s1/bwim5s.align',\n",
              " 'data/alignments/s1/bwim6p.align',\n",
              " 'data/alignments/s1/bwim7a.align',\n",
              " 'data/alignments/s1/bwis8n.align',\n",
              " 'data/alignments/s1/bwis9s.align',\n",
              " 'data/alignments/s1/bwit1a.align',\n",
              " 'data/alignments/s1/bwitzp.align',\n",
              " 'data/alignments/s1/bwwa8n.align',\n",
              " 'data/alignments/s1/bwwa9s.align',\n",
              " 'data/alignments/s1/bwwb1a.align',\n",
              " 'data/alignments/s1/bwwbzp.align',\n",
              " 'data/alignments/s1/bwwh2n.align',\n",
              " 'data/alignments/s1/bwwh3s.align',\n",
              " 'data/alignments/s1/bwwh4p.align',\n",
              " 'data/alignments/s1/bwwh5a.align',\n",
              " 'data/alignments/s1/bwwn6n.align',\n",
              " 'data/alignments/s1/bwwn7s.align',\n",
              " 'data/alignments/s1/bwwn8p.align',\n",
              " 'data/alignments/s1/bwwn9a.align',\n",
              " 'data/alignments/s1/bwwu1s.align',\n",
              " 'data/alignments/s1/bwwu2p.align',\n",
              " 'data/alignments/s1/bwwu3a.align',\n",
              " 'data/alignments/s1/bwwuzn.align',\n",
              " 'data/alignments/s1/lbad6n.align',\n",
              " 'data/alignments/s1/lbad7s.align',\n",
              " 'data/alignments/s1/lbad8p.align',\n",
              " 'data/alignments/s1/lbad9a.align',\n",
              " 'data/alignments/s1/lbak1s.align',\n",
              " 'data/alignments/s1/lbak2p.align',\n",
              " 'data/alignments/s1/lbak3a.align',\n",
              " 'data/alignments/s1/lbakzn.align',\n",
              " 'data/alignments/s1/lbaq4n.align',\n",
              " 'data/alignments/s1/lbaq5s.align',\n",
              " 'data/alignments/s1/lbaq6p.align',\n",
              " 'data/alignments/s1/lbaq7a.align',\n",
              " 'data/alignments/s1/lbax8n.align',\n",
              " 'data/alignments/s1/lbax9s.align',\n",
              " 'data/alignments/s1/lbay1a.align',\n",
              " 'data/alignments/s1/lbayzp.align',\n",
              " 'data/alignments/s1/lbbe1s.align',\n",
              " 'data/alignments/s1/lbbe2p.align',\n",
              " 'data/alignments/s1/lbbe3a.align',\n",
              " 'data/alignments/s1/lbbezn.align',\n",
              " 'data/alignments/s1/lbbk4n.align',\n",
              " 'data/alignments/s1/lbbk5s.align',\n",
              " 'data/alignments/s1/lbbk6p.align',\n",
              " 'data/alignments/s1/lbbk7a.align',\n",
              " 'data/alignments/s1/lbbq8n.align',\n",
              " 'data/alignments/s1/lbbq9s.align',\n",
              " 'data/alignments/s1/lbbr1a.align',\n",
              " 'data/alignments/s1/lbbrzp.align',\n",
              " 'data/alignments/s1/lbby2n.align',\n",
              " 'data/alignments/s1/lbby3s.align',\n",
              " 'data/alignments/s1/lbby4p.align',\n",
              " 'data/alignments/s1/lbby5a.align',\n",
              " 'data/alignments/s1/lbid2n.align',\n",
              " 'data/alignments/s1/lbid3s.align',\n",
              " 'data/alignments/s1/lbid4p.align',\n",
              " 'data/alignments/s1/lbid5a.align',\n",
              " 'data/alignments/s1/lbij6n.align',\n",
              " 'data/alignments/s1/lbij7s.align',\n",
              " 'data/alignments/s1/lbij8p.align',\n",
              " 'data/alignments/s1/lbij9a.align',\n",
              " 'data/alignments/s1/lbiq1s.align',\n",
              " 'data/alignments/s1/lbiq2p.align',\n",
              " 'data/alignments/s1/lbiq3a.align',\n",
              " 'data/alignments/s1/lbiqzn.align',\n",
              " 'data/alignments/s1/lbix4n.align',\n",
              " 'data/alignments/s1/lbix5s.align',\n",
              " 'data/alignments/s1/lbix6p.align',\n",
              " 'data/alignments/s1/lbix7a.align',\n",
              " 'data/alignments/s1/lbwe4n.align',\n",
              " 'data/alignments/s1/lbwe5s.align',\n",
              " 'data/alignments/s1/lbwe6p.align',\n",
              " 'data/alignments/s1/lbwe7a.align',\n",
              " 'data/alignments/s1/lbwk8n.align',\n",
              " 'data/alignments/s1/lbwk9s.align',\n",
              " 'data/alignments/s1/lbwl1a.align',\n",
              " 'data/alignments/s1/lbwlzp.align',\n",
              " 'data/alignments/s1/lbwr2n.align',\n",
              " 'data/alignments/s1/lbwr3s.align',\n",
              " 'data/alignments/s1/lbwr4p.align',\n",
              " 'data/alignments/s1/lbwr5a.align',\n",
              " 'data/alignments/s1/lbwy6n.align',\n",
              " 'data/alignments/s1/lbwy7s.align',\n",
              " 'data/alignments/s1/lbwy8p.align',\n",
              " 'data/alignments/s1/lbwy9a.align',\n",
              " 'data/alignments/s1/lgaf4n.align',\n",
              " 'data/alignments/s1/lgaf5s.align',\n",
              " 'data/alignments/s1/lgaf6p.align',\n",
              " 'data/alignments/s1/lgaf7a.align',\n",
              " 'data/alignments/s1/lgal8n.align',\n",
              " 'data/alignments/s1/lgal9s.align',\n",
              " 'data/alignments/s1/lgam1a.align',\n",
              " 'data/alignments/s1/lgamzp.align',\n",
              " 'data/alignments/s1/lgas2n.align',\n",
              " 'data/alignments/s1/lgas3s.align',\n",
              " 'data/alignments/s1/lgas4p.align',\n",
              " 'data/alignments/s1/lgas5a.align',\n",
              " 'data/alignments/s1/lgaz6n.align',\n",
              " 'data/alignments/s1/lgaz7s.align',\n",
              " 'data/alignments/s1/lgaz8p.align',\n",
              " 'data/alignments/s1/lgaz9a.align',\n",
              " 'data/alignments/s1/lgbf8n.align',\n",
              " 'data/alignments/s1/lgbf9s.align',\n",
              " 'data/alignments/s1/lgbg1a.align',\n",
              " 'data/alignments/s1/lgbgzp.align',\n",
              " 'data/alignments/s1/lgbm2n.align',\n",
              " 'data/alignments/s1/lgbm3s.align',\n",
              " 'data/alignments/s1/lgbm4p.align',\n",
              " 'data/alignments/s1/lgbm5a.align',\n",
              " 'data/alignments/s1/lgbs6n.align',\n",
              " 'data/alignments/s1/lgbs7s.align',\n",
              " 'data/alignments/s1/lgbs8p.align',\n",
              " 'data/alignments/s1/lgbs9a.align',\n",
              " 'data/alignments/s1/lgif1s.align',\n",
              " 'data/alignments/s1/lgif2p.align',\n",
              " 'data/alignments/s1/lgif3a.align',\n",
              " 'data/alignments/s1/lgifzn.align',\n",
              " 'data/alignments/s1/lgil4n.align',\n",
              " 'data/alignments/s1/lgil5s.align',\n",
              " 'data/alignments/s1/lgil6p.align',\n",
              " 'data/alignments/s1/lgil7a.align',\n",
              " 'data/alignments/s1/lgir8n.align',\n",
              " 'data/alignments/s1/lgir9s.align',\n",
              " 'data/alignments/s1/lgis1a.align',\n",
              " 'data/alignments/s1/lgiszp.align',\n",
              " 'data/alignments/s1/lgiz2n.align',\n",
              " 'data/alignments/s1/lgiz3s.align',\n",
              " 'data/alignments/s1/lgiz4p.align',\n",
              " 'data/alignments/s1/lgiz5a.align',\n",
              " 'data/alignments/s1/lgwa1a.align',\n",
              " 'data/alignments/s1/lgwazp.align',\n",
              " 'data/alignments/s1/lgwg2n.align',\n",
              " 'data/alignments/s1/lgwg3s.align',\n",
              " 'data/alignments/s1/lgwg4p.align',\n",
              " 'data/alignments/s1/lgwg5a.align',\n",
              " 'data/alignments/s1/lgwm6n.align',\n",
              " 'data/alignments/s1/lgwm7s.align',\n",
              " 'data/alignments/s1/lgwm8p.align',\n",
              " 'data/alignments/s1/lgwm9a.align',\n",
              " 'data/alignments/s1/lgwt1s.align',\n",
              " 'data/alignments/s1/lgwt2p.align',\n",
              " 'data/alignments/s1/lgwt3a.align',\n",
              " 'data/alignments/s1/lgwtzn.align',\n",
              " 'data/alignments/s1/lrae2n.align',\n",
              " 'data/alignments/s1/lrae3s.align',\n",
              " 'data/alignments/s1/lrae4p.align',\n",
              " 'data/alignments/s1/lrae5a.align',\n",
              " 'data/alignments/s1/lrak6n.align',\n",
              " 'data/alignments/s1/lrak7s.align',\n",
              " 'data/alignments/s1/lrak8p.align',\n",
              " 'data/alignments/s1/lrak9a.align',\n",
              " 'data/alignments/s1/lrar1s.align',\n",
              " 'data/alignments/s1/lrar2p.align',\n",
              " 'data/alignments/s1/lrar3a.align',\n",
              " 'data/alignments/s1/lrarzn.align',\n",
              " 'data/alignments/s1/lray4n.align',\n",
              " 'data/alignments/s1/lray5s.align',\n",
              " 'data/alignments/s1/lray6p.align',\n",
              " 'data/alignments/s1/lray7a.align',\n",
              " 'data/alignments/s1/lrbe6n.align',\n",
              " 'data/alignments/s1/lrbe7s.align',\n",
              " 'data/alignments/s1/lrbe8p.align',\n",
              " 'data/alignments/s1/lrbe9a.align',\n",
              " 'data/alignments/s1/lrbl1s.align',\n",
              " 'data/alignments/s1/lrbl2p.align',\n",
              " 'data/alignments/s1/lrbl3a.align',\n",
              " 'data/alignments/s1/lrblzn.align',\n",
              " 'data/alignments/s1/lrbr4n.align',\n",
              " 'data/alignments/s1/lrbr5s.align',\n",
              " 'data/alignments/s1/lrbr6p.align',\n",
              " 'data/alignments/s1/lrbr7a.align',\n",
              " 'data/alignments/s1/lrby8n.align',\n",
              " 'data/alignments/s1/lrby9s.align',\n",
              " 'data/alignments/s1/lrbz1a.align',\n",
              " 'data/alignments/s1/lrbzzp.align',\n",
              " 'data/alignments/s1/lrid8n.align',\n",
              " 'data/alignments/s1/lrid9s.align',\n",
              " 'data/alignments/s1/lrie1a.align',\n",
              " 'data/alignments/s1/lriezp.align',\n",
              " 'data/alignments/s1/lrik2n.align',\n",
              " 'data/alignments/s1/lrik3s.align',\n",
              " 'data/alignments/s1/lrik4p.align',\n",
              " 'data/alignments/s1/lrik5a.align',\n",
              " 'data/alignments/s1/lriq6n.align',\n",
              " 'data/alignments/s1/lriq7s.align',\n",
              " 'data/alignments/s1/lriq8p.align',\n",
              " 'data/alignments/s1/lriq9a.align',\n",
              " 'data/alignments/s1/lriy1s.align',\n",
              " 'data/alignments/s1/lriy2p.align',\n",
              " 'data/alignments/s1/lriy3a.align',\n",
              " 'data/alignments/s1/lriyzn.align',\n",
              " 'data/alignments/s1/lrwf1s.align',\n",
              " 'data/alignments/s1/lrwf2p.align',\n",
              " 'data/alignments/s1/lrwf3a.align',\n",
              " 'data/alignments/s1/lrwfzn.align',\n",
              " 'data/alignments/s1/lrwl4n.align',\n",
              " 'data/alignments/s1/lrwl5s.align',\n",
              " 'data/alignments/s1/lrwl6p.align',\n",
              " 'data/alignments/s1/lrwl7a.align',\n",
              " 'data/alignments/s1/lrwr8n.align',\n",
              " 'data/alignments/s1/lrwr9s.align',\n",
              " 'data/alignments/s1/lrws1a.align',\n",
              " 'data/alignments/s1/lrwszp.align',\n",
              " 'data/alignments/s1/lrwz2n.align',\n",
              " 'data/alignments/s1/lrwz3s.align',\n",
              " 'data/alignments/s1/lrwz4p.align',\n",
              " 'data/alignments/s1/lrwz5a.align',\n",
              " 'data/alignments/s1/lwae8n.align',\n",
              " 'data/alignments/s1/lwae9s.align',\n",
              " 'data/alignments/s1/lwaf1a.align',\n",
              " 'data/alignments/s1/lwafzp.align',\n",
              " 'data/alignments/s1/lwal2n.align',\n",
              " 'data/alignments/s1/lwal3s.align',\n",
              " 'data/alignments/s1/lwal4p.align',\n",
              " 'data/alignments/s1/lwal5a.align',\n",
              " 'data/alignments/s1/lwar6n.align',\n",
              " 'data/alignments/s1/lwar7s.align',\n",
              " 'data/alignments/s1/lwar8p.align',\n",
              " 'data/alignments/s1/lwar9a.align',\n",
              " 'data/alignments/s1/lwaz1s.align',\n",
              " 'data/alignments/s1/lwaz2p.align',\n",
              " 'data/alignments/s1/lwaz3a.align',\n",
              " 'data/alignments/s1/lwazzn.align',\n",
              " 'data/alignments/s1/lwbf2n.align',\n",
              " 'data/alignments/s1/lwbf3s.align',\n",
              " 'data/alignments/s1/lwbf4p.align',\n",
              " 'data/alignments/s1/lwbf5a.align',\n",
              " 'data/alignments/s1/lwbl6n.align',\n",
              " 'data/alignments/s1/lwbl7s.align',\n",
              " 'data/alignments/s1/lwbl8p.align',\n",
              " 'data/alignments/s1/lwbl9a.align',\n",
              " 'data/alignments/s1/lwbs1s.align',\n",
              " 'data/alignments/s1/lwbs2p.align',\n",
              " 'data/alignments/s1/lwbs3a.align',\n",
              " 'data/alignments/s1/lwbszn.align',\n",
              " 'data/alignments/s1/lwbz4n.align',\n",
              " 'data/alignments/s1/lwbz5s.align',\n",
              " 'data/alignments/s1/lwbz6p.align',\n",
              " 'data/alignments/s1/lwbz7a.align',\n",
              " 'data/alignments/s1/lwie4n.align',\n",
              " 'data/alignments/s1/lwie5s.align',\n",
              " 'data/alignments/s1/lwie6p.align',\n",
              " 'data/alignments/s1/lwie7a.align',\n",
              " 'data/alignments/s1/lwik8n.align',\n",
              " 'data/alignments/s1/lwik9s.align',\n",
              " 'data/alignments/s1/lwil1a.align',\n",
              " 'data/alignments/s1/lwilzp.align',\n",
              " 'data/alignments/s1/lwir2n.align',\n",
              " 'data/alignments/s1/lwir3s.align',\n",
              " 'data/alignments/s1/lwir4p.align',\n",
              " 'data/alignments/s1/lwir5a.align',\n",
              " 'data/alignments/s1/lwiy6n.align',\n",
              " 'data/alignments/s1/lwiy7s.align',\n",
              " 'data/alignments/s1/lwiy8p.align',\n",
              " 'data/alignments/s1/lwiy9a.align',\n",
              " 'data/alignments/s1/lwwf6n.align',\n",
              " 'data/alignments/s1/lwwf7s.align',\n",
              " 'data/alignments/s1/lwwf8p.align',\n",
              " 'data/alignments/s1/lwwf9a.align',\n",
              " 'data/alignments/s1/lwwm1s.align',\n",
              " 'data/alignments/s1/lwwm2p.align',\n",
              " 'data/alignments/s1/lwwm3a.align',\n",
              " 'data/alignments/s1/lwwmzn.align',\n",
              " 'data/alignments/s1/lwws4n.align',\n",
              " 'data/alignments/s1/lwws5s.align',\n",
              " 'data/alignments/s1/lwws6p.align',\n",
              " 'data/alignments/s1/lwws7a.align',\n",
              " 'data/alignments/s1/lwwz8n.align',\n",
              " 'data/alignments/s1/lwwz9s.align',\n",
              " 'data/alignments/s1/pbac1s.align',\n",
              " 'data/alignments/s1/pbac2p.align',\n",
              " 'data/alignments/s1/pbac3a.align',\n",
              " 'data/alignments/s1/pbaczn.align',\n",
              " 'data/alignments/s1/pbai4n.align',\n",
              " 'data/alignments/s1/pbai5s.align',\n",
              " 'data/alignments/s1/pbai6p.align',\n",
              " 'data/alignments/s1/pbai7a.align',\n",
              " 'data/alignments/s1/pbao8n.align',\n",
              " 'data/alignments/s1/pbao9s.align',\n",
              " 'data/alignments/s1/pbap1a.align',\n",
              " 'data/alignments/s1/pbapzp.align',\n",
              " 'data/alignments/s1/pbav2n.align',\n",
              " 'data/alignments/s1/pbav3s.align',\n",
              " 'data/alignments/s1/pbav4p.align',\n",
              " 'data/alignments/s1/pbav5a.align',\n",
              " 'data/alignments/s1/pbbc4n.align',\n",
              " 'data/alignments/s1/pbbc5s.align',\n",
              " 'data/alignments/s1/pbbc6p.align',\n",
              " 'data/alignments/s1/pbbc7a.align',\n",
              " 'data/alignments/s1/pbbi8n.align',\n",
              " 'data/alignments/s1/pbbi9s.align',\n",
              " 'data/alignments/s1/pbbj1a.align',\n",
              " 'data/alignments/s1/pbbjzp.align',\n",
              " 'data/alignments/s1/pbbp2n.align',\n",
              " 'data/alignments/s1/pbbp3s.align',\n",
              " 'data/alignments/s1/pbbp4p.align',\n",
              " 'data/alignments/s1/pbbp5a.align',\n",
              " 'data/alignments/s1/pbbv6n.align',\n",
              " 'data/alignments/s1/pbbv7s.align',\n",
              " 'data/alignments/s1/pbbv8p.align',\n",
              " 'data/alignments/s1/pbbv9a.align',\n",
              " 'data/alignments/s1/pbib6n.align',\n",
              " 'data/alignments/s1/pbib7s.align',\n",
              " 'data/alignments/s1/pbib8p.align',\n",
              " 'data/alignments/s1/pbib9a.align',\n",
              " 'data/alignments/s1/pbii1s.align',\n",
              " 'data/alignments/s1/pbii2p.align',\n",
              " 'data/alignments/s1/pbii3a.align',\n",
              " 'data/alignments/s1/pbiizn.align',\n",
              " 'data/alignments/s1/pbio4n.align',\n",
              " 'data/alignments/s1/pbio5s.align',\n",
              " 'data/alignments/s1/pbio6p.align',\n",
              " 'data/alignments/s1/pbio7a.align',\n",
              " 'data/alignments/s1/pbiu8n.align',\n",
              " 'data/alignments/s1/pbiu9s.align',\n",
              " 'data/alignments/s1/pbiv1a.align',\n",
              " 'data/alignments/s1/pbivzp.align',\n",
              " 'data/alignments/s1/pbwc8n.align',\n",
              " 'data/alignments/s1/pbwc9s.align',\n",
              " 'data/alignments/s1/pbwd1a.align',\n",
              " 'data/alignments/s1/pbwdzp.align',\n",
              " 'data/alignments/s1/pbwj2n.align',\n",
              " 'data/alignments/s1/pbwj3s.align',\n",
              " 'data/alignments/s1/pbwj4p.align',\n",
              " 'data/alignments/s1/pbwj5a.align',\n",
              " 'data/alignments/s1/pbwp6n.align',\n",
              " 'data/alignments/s1/pbwp7s.align',\n",
              " 'data/alignments/s1/pbwp8p.align',\n",
              " 'data/alignments/s1/pbwp9a.align',\n",
              " 'data/alignments/s1/pbwx1s.align',\n",
              " 'data/alignments/s1/pbwx2p.align',\n",
              " 'data/alignments/s1/pbwx3a.align',\n",
              " 'data/alignments/s1/pbwxzn.align',\n",
              " 'data/alignments/s1/pgad8n.align',\n",
              " 'data/alignments/s1/pgad9s.align',\n",
              " 'data/alignments/s1/pgae1a.align',\n",
              " 'data/alignments/s1/pgaezp.align',\n",
              " 'data/alignments/s1/pgak2n.align',\n",
              " 'data/alignments/s1/pgak3s.align',\n",
              " 'data/alignments/s1/pgak4p.align',\n",
              " 'data/alignments/s1/pgak5a.align',\n",
              " 'data/alignments/s1/pgaq6n.align',\n",
              " 'data/alignments/s1/pgaq7s.align',\n",
              " 'data/alignments/s1/pgaq8p.align',\n",
              " 'data/alignments/s1/pgaq9a.align',\n",
              " 'data/alignments/s1/pgay1s.align',\n",
              " 'data/alignments/s1/pgay2p.align',\n",
              " 'data/alignments/s1/pgay3a.align',\n",
              " 'data/alignments/s1/pgayzn.align',\n",
              " 'data/alignments/s1/pgbe2n.align',\n",
              " 'data/alignments/s1/pgbe3s.align',\n",
              " 'data/alignments/s1/pgbe4p.align',\n",
              " 'data/alignments/s1/pgbe5a.align',\n",
              " 'data/alignments/s1/pgbk6n.align',\n",
              " 'data/alignments/s1/pgbk7s.align',\n",
              " 'data/alignments/s1/pgbk8p.align',\n",
              " 'data/alignments/s1/pgbk9a.align',\n",
              " 'data/alignments/s1/pgbr1s.align',\n",
              " 'data/alignments/s1/pgbr2p.align',\n",
              " 'data/alignments/s1/pgbr3a.align',\n",
              " 'data/alignments/s1/pgbrzn.align',\n",
              " 'data/alignments/s1/pgby4n.align',\n",
              " 'data/alignments/s1/pgby5s.align',\n",
              " 'data/alignments/s1/pgby6p.align',\n",
              " 'data/alignments/s1/pgby7a.align',\n",
              " 'data/alignments/s1/pgid4n.align',\n",
              " 'data/alignments/s1/pgid5s.align',\n",
              " 'data/alignments/s1/pgid6p.align',\n",
              " 'data/alignments/s1/pgid7a.align',\n",
              " 'data/alignments/s1/pgij8n.align',\n",
              " 'data/alignments/s1/pgij9s.align',\n",
              " 'data/alignments/s1/pgik1a.align',\n",
              " 'data/alignments/s1/pgikzp.align',\n",
              " 'data/alignments/s1/pgiq2n.align',\n",
              " 'data/alignments/s1/pgiq3s.align',\n",
              " 'data/alignments/s1/pgiq4p.align',\n",
              " 'data/alignments/s1/pgiq5a.align',\n",
              " 'data/alignments/s1/pgix6n.align',\n",
              " 'data/alignments/s1/pgix7s.align',\n",
              " 'data/alignments/s1/pgix8p.align',\n",
              " 'data/alignments/s1/pgix9a.align',\n",
              " 'data/alignments/s1/pgwe6n.align',\n",
              " 'data/alignments/s1/pgwe7s.align',\n",
              " 'data/alignments/s1/pgwe8p.align',\n",
              " 'data/alignments/s1/pgwe9a.align',\n",
              " 'data/alignments/s1/pgwl1s.align',\n",
              " 'data/alignments/s1/pgwl2p.align',\n",
              " 'data/alignments/s1/pgwl3a.align',\n",
              " 'data/alignments/s1/pgwlzn.align',\n",
              " 'data/alignments/s1/pgwr4n.align',\n",
              " 'data/alignments/s1/pgwr5s.align',\n",
              " 'data/alignments/s1/pgwr6p.align',\n",
              " 'data/alignments/s1/pgwr7a.align',\n",
              " 'data/alignments/s1/pgwy8n.align',\n",
              " 'data/alignments/s1/pgwy9s.align',\n",
              " 'data/alignments/s1/pgwz1a.align',\n",
              " 'data/alignments/s1/pgwzzp.align',\n",
              " 'data/alignments/s1/prac6n.align',\n",
              " 'data/alignments/s1/prac7s.align',\n",
              " 'data/alignments/s1/prac8p.align',\n",
              " 'data/alignments/s1/prac9a.align',\n",
              " 'data/alignments/s1/praj1s.align',\n",
              " 'data/alignments/s1/praj2p.align',\n",
              " 'data/alignments/s1/praj3a.align',\n",
              " 'data/alignments/s1/prajzn.align',\n",
              " 'data/alignments/s1/prap4n.align',\n",
              " 'data/alignments/s1/prap5s.align',\n",
              " 'data/alignments/s1/prap6p.align',\n",
              " 'data/alignments/s1/prap7a.align',\n",
              " 'data/alignments/s1/prav8n.align',\n",
              " 'data/alignments/s1/prav9s.align',\n",
              " 'data/alignments/s1/prax1a.align',\n",
              " 'data/alignments/s1/praxzp.align',\n",
              " 'data/alignments/s1/prbd1s.align',\n",
              " 'data/alignments/s1/prbd2p.align',\n",
              " 'data/alignments/s1/prbd3a.align',\n",
              " 'data/alignments/s1/prbdzn.align',\n",
              " 'data/alignments/s1/prbj4n.align',\n",
              " 'data/alignments/s1/prbj5s.align',\n",
              " 'data/alignments/s1/prbj6p.align',\n",
              " 'data/alignments/s1/prbj7a.align',\n",
              " 'data/alignments/s1/prbp8n.align',\n",
              " 'data/alignments/s1/prbp9s.align',\n",
              " 'data/alignments/s1/prbq1a.align',\n",
              " 'data/alignments/s1/prbqzp.align',\n",
              " 'data/alignments/s1/prbx2n.align',\n",
              " 'data/alignments/s1/prbx3s.align',\n",
              " 'data/alignments/s1/prbx4p.align',\n",
              " 'data/alignments/s1/prbx5a.align',\n",
              " 'data/alignments/s1/pric2n.align',\n",
              " 'data/alignments/s1/pric3s.align',\n",
              " 'data/alignments/s1/pric4p.align',\n",
              " 'data/alignments/s1/pric5a.align',\n",
              " 'data/alignments/s1/prii6n.align',\n",
              " 'data/alignments/s1/prii7s.align',\n",
              " 'data/alignments/s1/prii8p.align',\n",
              " 'data/alignments/s1/prii9a.align',\n",
              " 'data/alignments/s1/prip1s.align',\n",
              " 'data/alignments/s1/prip2p.align',\n",
              " 'data/alignments/s1/prip3a.align',\n",
              " 'data/alignments/s1/pripzn.align',\n",
              " 'data/alignments/s1/priv4n.align',\n",
              " 'data/alignments/s1/priv5s.align',\n",
              " 'data/alignments/s1/priv6p.align',\n",
              " 'data/alignments/s1/priv7a.align',\n",
              " 'data/alignments/s1/prwd4n.align',\n",
              " 'data/alignments/s1/prwd5s.align',\n",
              " 'data/alignments/s1/prwd6p.align',\n",
              " 'data/alignments/s1/prwd7a.align',\n",
              " 'data/alignments/s1/prwj8n.align',\n",
              " 'data/alignments/s1/prwj9s.align',\n",
              " 'data/alignments/s1/prwk1a.align',\n",
              " 'data/alignments/s1/prwkzp.align',\n",
              " 'data/alignments/s1/prwq2n.align',\n",
              " 'data/alignments/s1/prwq3s.align',\n",
              " 'data/alignments/s1/prwq4p.align',\n",
              " 'data/alignments/s1/prwq5a.align',\n",
              " 'data/alignments/s1/prwx6n.align',\n",
              " 'data/alignments/s1/prwx7s.align',\n",
              " 'data/alignments/s1/prwx8p.align',\n",
              " 'data/alignments/s1/prwx9a.align',\n",
              " 'data/alignments/s1/pwad2n.align',\n",
              " 'data/alignments/s1/pwad3s.align',\n",
              " 'data/alignments/s1/pwad4p.align',\n",
              " 'data/alignments/s1/pwad5a.align',\n",
              " 'data/alignments/s1/pwaj6n.align',\n",
              " 'data/alignments/s1/pwaj7s.align',\n",
              " 'data/alignments/s1/pwaj8p.align',\n",
              " 'data/alignments/s1/pwaj9a.align',\n",
              " 'data/alignments/s1/pwaq1s.align',\n",
              " 'data/alignments/s1/pwaq2p.align',\n",
              " 'data/alignments/s1/pwaq3a.align',\n",
              " 'data/alignments/s1/pwaqzn.align',\n",
              " 'data/alignments/s1/pwax4n.align',\n",
              " 'data/alignments/s1/pwax5s.align',\n",
              " 'data/alignments/s1/pwax6p.align',\n",
              " 'data/alignments/s1/pwax7a.align',\n",
              " 'data/alignments/s1/pwbd6n.align',\n",
              " 'data/alignments/s1/pwbd7s.align',\n",
              " 'data/alignments/s1/pwbd8p.align',\n",
              " 'data/alignments/s1/pwbd9a.align',\n",
              " 'data/alignments/s1/pwbk1s.align',\n",
              " 'data/alignments/s1/pwbk2p.align',\n",
              " 'data/alignments/s1/pwbk3a.align',\n",
              " 'data/alignments/s1/pwbkzn.align',\n",
              " 'data/alignments/s1/pwbq4n.align',\n",
              " 'data/alignments/s1/pwbq5s.align',\n",
              " 'data/alignments/s1/pwbq6p.align',\n",
              " 'data/alignments/s1/pwbq7a.align',\n",
              " 'data/alignments/s1/pwbx8n.align',\n",
              " 'data/alignments/s1/pwbx9s.align',\n",
              " 'data/alignments/s1/pwby1a.align',\n",
              " 'data/alignments/s1/pwbyzp.align',\n",
              " 'data/alignments/s1/pwic8n.align',\n",
              " 'data/alignments/s1/pwic9s.align',\n",
              " 'data/alignments/s1/pwid1a.align',\n",
              " 'data/alignments/s1/pwidzp.align',\n",
              " 'data/alignments/s1/pwij2n.align',\n",
              " 'data/alignments/s1/pwij3s.align',\n",
              " 'data/alignments/s1/pwij4p.align',\n",
              " 'data/alignments/s1/pwij5a.align',\n",
              " 'data/alignments/s1/pwip6n.align',\n",
              " 'data/alignments/s1/pwip7s.align',\n",
              " 'data/alignments/s1/pwip8p.align',\n",
              " 'data/alignments/s1/pwip9a.align',\n",
              " 'data/alignments/s1/pwix1s.align',\n",
              " 'data/alignments/s1/pwix2p.align',\n",
              " 'data/alignments/s1/pwix3a.align',\n",
              " 'data/alignments/s1/pwixzn.align',\n",
              " 'data/alignments/s1/pwwe1s.align',\n",
              " 'data/alignments/s1/pwwe2p.align',\n",
              " 'data/alignments/s1/pwwe3a.align',\n",
              " 'data/alignments/s1/pwwezn.align',\n",
              " 'data/alignments/s1/pwwk4n.align',\n",
              " 'data/alignments/s1/pwwk5s.align',\n",
              " 'data/alignments/s1/pwwk6p.align',\n",
              " 'data/alignments/s1/pwwk7a.align',\n",
              " 'data/alignments/s1/pwwq8n.align',\n",
              " 'data/alignments/s1/pwwq9s.align',\n",
              " 'data/alignments/s1/pwwr1a.align',\n",
              " 'data/alignments/s1/pwwrzp.align',\n",
              " 'data/alignments/s1/pwwy2n.align',\n",
              " 'data/alignments/s1/pwwy3s.align',\n",
              " 'data/alignments/s1/pwwy4p.align',\n",
              " 'data/alignments/s1/pwwy5a.align',\n",
              " 'data/alignments/s1/sbaa4n.align',\n",
              " 'data/alignments/s1/sbaa5s.align',\n",
              " 'data/alignments/s1/sbaa6p.align',\n",
              " 'data/alignments/s1/sbaa7a.align',\n",
              " 'data/alignments/s1/sbag8n.align',\n",
              " 'data/alignments/s1/sbag9s.align',\n",
              " 'data/alignments/s1/sbah1a.align',\n",
              " 'data/alignments/s1/sbahzp.align',\n",
              " 'data/alignments/s1/sban2n.align',\n",
              " 'data/alignments/s1/sban3s.align',\n",
              " 'data/alignments/s1/sban4p.align',\n",
              " 'data/alignments/s1/sban5a.align',\n",
              " 'data/alignments/s1/sbat6n.align',\n",
              " 'data/alignments/s1/sbat7s.align',\n",
              " 'data/alignments/s1/sbat8p.align',\n",
              " 'data/alignments/s1/sbat9a.align',\n",
              " 'data/alignments/s1/sbba8n.align',\n",
              " 'data/alignments/s1/sbba9s.align',\n",
              " 'data/alignments/s1/sbbb1a.align',\n",
              " 'data/alignments/s1/sbbbzp.align',\n",
              " 'data/alignments/s1/sbbh2n.align',\n",
              " 'data/alignments/s1/sbbh3s.align',\n",
              " 'data/alignments/s1/sbbh4p.align',\n",
              " 'data/alignments/s1/sbbh5a.align',\n",
              " 'data/alignments/s1/sbbn6n.align',\n",
              " 'data/alignments/s1/sbbn7s.align',\n",
              " 'data/alignments/s1/sbbn8p.align',\n",
              " 'data/alignments/s1/sbbn9a.align',\n",
              " 'data/alignments/s1/sbbu1s.align',\n",
              " 'data/alignments/s1/sbbu2p.align',\n",
              " 'data/alignments/s1/sbbu3a.align',\n",
              " 'data/alignments/s1/sbbuzn.align',\n",
              " 'data/alignments/s1/sbia1s.align',\n",
              " 'data/alignments/s1/sbia2p.align',\n",
              " 'data/alignments/s1/sbia3a.align',\n",
              " 'data/alignments/s1/sbiazn.align',\n",
              " 'data/alignments/s1/sbig4n.align',\n",
              " 'data/alignments/s1/sbig5s.align',\n",
              " 'data/alignments/s1/sbig6p.align',\n",
              " 'data/alignments/s1/sbig7a.align',\n",
              " 'data/alignments/s1/sbim8n.align',\n",
              " 'data/alignments/s1/sbim9s.align',\n",
              " 'data/alignments/s1/sbin1a.align',\n",
              " 'data/alignments/s1/sbinzp.align',\n",
              " 'data/alignments/s1/sbit2n.align',\n",
              " 'data/alignments/s1/sbit3s.align',\n",
              " 'data/alignments/s1/sbit4p.align',\n",
              " 'data/alignments/s1/sbit5a.align',\n",
              " 'data/alignments/s1/sbwb2n.align',\n",
              " 'data/alignments/s1/sbwb3s.align',\n",
              " 'data/alignments/s1/sbwb4p.align',\n",
              " 'data/alignments/s1/sbwb5a.align',\n",
              " 'data/alignments/s1/sbwh6n.align',\n",
              " 'data/alignments/s1/sbwh7s.align',\n",
              " 'data/alignments/s1/sbwh8p.align',\n",
              " 'data/alignments/s1/sbwh9a.align',\n",
              " 'data/alignments/s1/sbwo1s.align',\n",
              " 'data/alignments/s1/sbwo2p.align',\n",
              " 'data/alignments/s1/sbwo3a.align',\n",
              " 'data/alignments/s1/sbwozn.align',\n",
              " 'data/alignments/s1/sbwu4n.align',\n",
              " 'data/alignments/s1/sbwu5s.align',\n",
              " 'data/alignments/s1/sbwu6p.align',\n",
              " 'data/alignments/s1/sbwu7a.align',\n",
              " 'data/alignments/s1/sgac2n.align',\n",
              " 'data/alignments/s1/sgac3s.align',\n",
              " 'data/alignments/s1/sgac4p.align',\n",
              " 'data/alignments/s1/sgac5a.align',\n",
              " 'data/alignments/s1/sgai6n.align',\n",
              " 'data/alignments/s1/sgai7s.align',\n",
              " 'data/alignments/s1/sgai8p.align',\n",
              " 'data/alignments/s1/sgai9a.align',\n",
              " 'data/alignments/s1/sgap1s.align',\n",
              " 'data/alignments/s1/sgap2p.align',\n",
              " 'data/alignments/s1/sgap3a.align',\n",
              " 'data/alignments/s1/sgapzn.align',\n",
              " 'data/alignments/s1/sgav4n.align',\n",
              " 'data/alignments/s1/sgav5s.align',\n",
              " 'data/alignments/s1/sgav6p.align',\n",
              " 'data/alignments/s1/sgav7a.align',\n",
              " 'data/alignments/s1/sgbc6n.align',\n",
              " 'data/alignments/s1/sgbc7s.align',\n",
              " 'data/alignments/s1/sgbc8p.align',\n",
              " 'data/alignments/s1/sgbc9a.align',\n",
              " 'data/alignments/s1/sgbj1s.align',\n",
              " 'data/alignments/s1/sgbj2p.align',\n",
              " 'data/alignments/s1/sgbj3a.align',\n",
              " 'data/alignments/s1/sgbjzn.align',\n",
              " 'data/alignments/s1/sgbp4n.align',\n",
              " 'data/alignments/s1/sgbp5s.align',\n",
              " 'data/alignments/s1/sgbp6p.align',\n",
              " 'data/alignments/s1/sgbp7a.align',\n",
              " 'data/alignments/s1/sgbv8n.align',\n",
              " 'data/alignments/s1/sgbv9s.align',\n",
              " 'data/alignments/s1/sgbx1a.align',\n",
              " 'data/alignments/s1/sgbxzp.align',\n",
              " 'data/alignments/s1/sgib8n.align',\n",
              " 'data/alignments/s1/sgib9s.align',\n",
              " 'data/alignments/s1/sgic1a.align',\n",
              " 'data/alignments/s1/sgiczp.align',\n",
              " 'data/alignments/s1/sgii2n.align',\n",
              " 'data/alignments/s1/sgii3s.align',\n",
              " 'data/alignments/s1/sgii4p.align',\n",
              " 'data/alignments/s1/sgii5a.align',\n",
              " 'data/alignments/s1/sgio6n.align',\n",
              " 'data/alignments/s1/sgio7s.align',\n",
              " 'data/alignments/s1/sgio8p.align',\n",
              " 'data/alignments/s1/sgio9a.align',\n",
              " 'data/alignments/s1/sgiv1s.align',\n",
              " 'data/alignments/s1/sgiv2p.align',\n",
              " 'data/alignments/s1/sgiv3a.align',\n",
              " 'data/alignments/s1/sgivzn.align',\n",
              " 'data/alignments/s1/sgwd1s.align',\n",
              " 'data/alignments/s1/sgwd2p.align',\n",
              " 'data/alignments/s1/sgwd3a.align',\n",
              " 'data/alignments/s1/sgwdzn.align',\n",
              " 'data/alignments/s1/sgwj4n.align',\n",
              " 'data/alignments/s1/sgwj5s.align',\n",
              " 'data/alignments/s1/sgwj6p.align',\n",
              " 'data/alignments/s1/sgwj7a.align',\n",
              " 'data/alignments/s1/sgwp8n.align',\n",
              " 'data/alignments/s1/sgwp9s.align',\n",
              " 'data/alignments/s1/sgwq1a.align',\n",
              " 'data/alignments/s1/sgwqzp.align',\n",
              " 'data/alignments/s1/sgwx2n.align',\n",
              " 'data/alignments/s1/sgwx3s.align',\n",
              " 'data/alignments/s1/sgwx4p.align',\n",
              " 'data/alignments/s1/sgwx5a.align',\n",
              " 'data/alignments/s1/srab1s.align',\n",
              " 'data/alignments/s1/srab2p.align',\n",
              " 'data/alignments/s1/srab3a.align',\n",
              " 'data/alignments/s1/srabzn.align',\n",
              " 'data/alignments/s1/srah4n.align',\n",
              " 'data/alignments/s1/srah5s.align',\n",
              " 'data/alignments/s1/srah6p.align',\n",
              " 'data/alignments/s1/srah7a.align',\n",
              " 'data/alignments/s1/sran8n.align',\n",
              " 'data/alignments/s1/sran9s.align',\n",
              " 'data/alignments/s1/srao1a.align',\n",
              " 'data/alignments/s1/sraozp.align',\n",
              " 'data/alignments/s1/srau2n.align',\n",
              " 'data/alignments/s1/srau3s.align',\n",
              " 'data/alignments/s1/srau4p.align',\n",
              " 'data/alignments/s1/srau5a.align',\n",
              " 'data/alignments/s1/srbb4n.align',\n",
              " 'data/alignments/s1/srbb5s.align',\n",
              " 'data/alignments/s1/srbb6p.align',\n",
              " 'data/alignments/s1/srbb7a.align',\n",
              " 'data/alignments/s1/srbh8n.align',\n",
              " 'data/alignments/s1/srbh9s.align',\n",
              " 'data/alignments/s1/srbi1a.align',\n",
              " 'data/alignments/s1/srbizp.align',\n",
              " 'data/alignments/s1/srbo2n.align',\n",
              " 'data/alignments/s1/srbo3s.align',\n",
              " 'data/alignments/s1/srbo4p.align',\n",
              " 'data/alignments/s1/srbo5a.align',\n",
              " 'data/alignments/s1/srbu6n.align',\n",
              " 'data/alignments/s1/srbu7s.align',\n",
              " 'data/alignments/s1/srbu8p.align',\n",
              " 'data/alignments/s1/srbu9a.align',\n",
              " 'data/alignments/s1/sria6n.align',\n",
              " 'data/alignments/s1/sria7s.align',\n",
              " 'data/alignments/s1/sria8p.align',\n",
              " 'data/alignments/s1/sria9a.align',\n",
              " 'data/alignments/s1/srih1s.align',\n",
              " 'data/alignments/s1/srih2p.align',\n",
              " 'data/alignments/s1/srih3a.align',\n",
              " 'data/alignments/s1/srihzn.align',\n",
              " 'data/alignments/s1/srin4n.align',\n",
              " 'data/alignments/s1/srin5s.align',\n",
              " 'data/alignments/s1/srin6p.align',\n",
              " 'data/alignments/s1/srin7a.align',\n",
              " 'data/alignments/s1/srit8n.align',\n",
              " 'data/alignments/s1/srit9s.align',\n",
              " 'data/alignments/s1/sriu1a.align',\n",
              " 'data/alignments/s1/sriuzp.align',\n",
              " 'data/alignments/s1/srwb8n.align',\n",
              " 'data/alignments/s1/srwb9s.align',\n",
              " 'data/alignments/s1/srwc1a.align',\n",
              " 'data/alignments/s1/srwczp.align',\n",
              " 'data/alignments/s1/srwi2n.align',\n",
              " 'data/alignments/s1/srwi3s.align',\n",
              " 'data/alignments/s1/srwi4p.align',\n",
              " 'data/alignments/s1/srwi5a.align',\n",
              " 'data/alignments/s1/srwo6n.align',\n",
              " 'data/alignments/s1/srwo7s.align',\n",
              " 'data/alignments/s1/srwo8p.align',\n",
              " 'data/alignments/s1/srwo9a.align',\n",
              " 'data/alignments/s1/srwv1s.align',\n",
              " 'data/alignments/s1/srwv2p.align',\n",
              " 'data/alignments/s1/srwv3a.align',\n",
              " 'data/alignments/s1/srwvzn.align',\n",
              " 'data/alignments/s1/swab6n.align',\n",
              " 'data/alignments/s1/swab7s.align',\n",
              " 'data/alignments/s1/swab8p.align',\n",
              " 'data/alignments/s1/swab9a.align',\n",
              " 'data/alignments/s1/swai1s.align',\n",
              " 'data/alignments/s1/swai2p.align',\n",
              " 'data/alignments/s1/swai3a.align',\n",
              " 'data/alignments/s1/swaizn.align',\n",
              " 'data/alignments/s1/swao4n.align',\n",
              " 'data/alignments/s1/swao5s.align',\n",
              " 'data/alignments/s1/swao6p.align',\n",
              " 'data/alignments/s1/swao7a.align',\n",
              " 'data/alignments/s1/swau8n.align',\n",
              " 'data/alignments/s1/swau9s.align',\n",
              " 'data/alignments/s1/swav1a.align',\n",
              " 'data/alignments/s1/swavzp.align',\n",
              " 'data/alignments/s1/swbc1s.align',\n",
              " 'data/alignments/s1/swbc2p.align',\n",
              " 'data/alignments/s1/swbc3a.align',\n",
              " 'data/alignments/s1/swbczn.align',\n",
              " 'data/alignments/s1/swbi4n.align',\n",
              " 'data/alignments/s1/swbi5s.align',\n",
              " 'data/alignments/s1/swbi6p.align',\n",
              " 'data/alignments/s1/swbi7a.align',\n",
              " 'data/alignments/s1/swbo8n.align',\n",
              " 'data/alignments/s1/swbo9s.align',\n",
              " 'data/alignments/s1/swbp1a.align',\n",
              " 'data/alignments/s1/swbpzp.align',\n",
              " 'data/alignments/s1/swbv2n.align',\n",
              " 'data/alignments/s1/swbv3s.align',\n",
              " 'data/alignments/s1/swbv4p.align',\n",
              " 'data/alignments/s1/swbv5a.align',\n",
              " 'data/alignments/s1/swib2n.align',\n",
              " 'data/alignments/s1/swib3s.align',\n",
              " 'data/alignments/s1/swib4p.align',\n",
              " 'data/alignments/s1/swib5a.align',\n",
              " 'data/alignments/s1/swih6n.align',\n",
              " 'data/alignments/s1/swih7s.align',\n",
              " 'data/alignments/s1/swih8p.align',\n",
              " 'data/alignments/s1/swih9a.align',\n",
              " 'data/alignments/s1/swio1s.align',\n",
              " 'data/alignments/s1/swio2p.align',\n",
              " 'data/alignments/s1/swio3a.align',\n",
              " 'data/alignments/s1/swiozn.align',\n",
              " 'data/alignments/s1/swiu4n.align',\n",
              " 'data/alignments/s1/swiu5s.align',\n",
              " 'data/alignments/s1/swiu6p.align',\n",
              " 'data/alignments/s1/swiu7a.align',\n",
              " 'data/alignments/s1/swwc4n.align',\n",
              " 'data/alignments/s1/swwc5s.align',\n",
              " 'data/alignments/s1/swwc6p.align',\n",
              " 'data/alignments/s1/swwc7a.align',\n",
              " 'data/alignments/s1/swwi8n.align',\n",
              " 'data/alignments/s1/swwi9s.align',\n",
              " 'data/alignments/s1/swwj1a.align',\n",
              " 'data/alignments/s1/swwjzp.align',\n",
              " 'data/alignments/s1/swwp2n.align',\n",
              " 'data/alignments/s1/swwp3s.align',\n",
              " 'data/alignments/s1/swwp4p.align',\n",
              " 'data/alignments/s1/swwp5a.align',\n",
              " 'data/alignments/s1/swwv6n.align',\n",
              " ...]"
            ]
          },
          "metadata": {},
          "execution_count": 5
        }
      ],
      "source": [
        "url = 'https://drive.google.com/uc?id=1YlvpDLix3S-U8fd-gqRwPcWXAXm8JwjL'\n",
        "output = 'data.zip'\n",
        "gdown.download(url, output, quiet=False)\n",
        "gdown.extractall('data.zip')"
      ]
    },
    {
      "cell_type": "code",
      "execution_count": null,
      "metadata": {
        "id": "up0eQWZNnzb3"
      },
      "outputs": [],
      "source": [
        "def load_video(path:str) -> List[float]:\n",
        "\n",
        "    cap = cv2.VideoCapture(path)\n",
        "    frames = []\n",
        "    for _ in range(int(cap.get(cv2.CAP_PROP_FRAME_COUNT))):\n",
        "        ret, frame = cap.read()\n",
        "        frame = tf.image.rgb_to_grayscale(frame)\n",
        "        frames.append(frame[190:236,80:220,:])\n",
        "    cap.release()\n",
        "\n",
        "    mean = tf.math.reduce_mean(frames)\n",
        "    std = tf.math.reduce_std(tf.cast(frames, tf.float32))\n",
        "    return tf.cast((frames - mean), tf.float32) / std"
      ]
    },
    {
      "cell_type": "code",
      "execution_count": null,
      "metadata": {
        "id": "QMaqDqpooAkC"
      },
      "outputs": [],
      "source": [
        "vocab = [x for x in \"abcdefghijklmnopqrstuvwxyz'?!123456789 \"]"
      ]
    },
    {
      "cell_type": "code",
      "execution_count": null,
      "metadata": {
        "colab": {
          "base_uri": "https://localhost:8080/"
        },
        "id": "mH-eL67yoFgs",
        "outputId": "bd8bf35d-a160-4208-b06c-9866cd1010c8"
      },
      "outputs": [
        {
          "output_type": "stream",
          "name": "stdout",
          "text": [
            "The vocabulary is: ['', 'a', 'b', 'c', 'd', 'e', 'f', 'g', 'h', 'i', 'j', 'k', 'l', 'm', 'n', 'o', 'p', 'q', 'r', 's', 't', 'u', 'v', 'w', 'x', 'y', 'z', \"'\", '?', '!', '1', '2', '3', '4', '5', '6', '7', '8', '9', ' '] (size =40)\n"
          ]
        }
      ],
      "source": [
        "char_to_num = tf.keras.layers.StringLookup(vocabulary=vocab, oov_token=\"\")\n",
        "num_to_char = tf.keras.layers.StringLookup(\n",
        "    vocabulary=char_to_num.get_vocabulary(), oov_token=\"\", invert=True\n",
        ")\n",
        "\n",
        "print(\n",
        "    f\"The vocabulary is: {char_to_num.get_vocabulary()} \"\n",
        "    f\"(size ={char_to_num.vocabulary_size()})\"\n",
        ")"
      ]
    },
    {
      "cell_type": "code",
      "execution_count": null,
      "metadata": {
        "colab": {
          "base_uri": "https://localhost:8080/"
        },
        "id": "wyVb1rVnoJAS",
        "outputId": "e4c3c911-72e4-434d-d544-ce37a6be5e95"
      },
      "outputs": [
        {
          "output_type": "execute_result",
          "data": {
            "text/plain": [
              "['',\n",
              " 'a',\n",
              " 'b',\n",
              " 'c',\n",
              " 'd',\n",
              " 'e',\n",
              " 'f',\n",
              " 'g',\n",
              " 'h',\n",
              " 'i',\n",
              " 'j',\n",
              " 'k',\n",
              " 'l',\n",
              " 'm',\n",
              " 'n',\n",
              " 'o',\n",
              " 'p',\n",
              " 'q',\n",
              " 'r',\n",
              " 's',\n",
              " 't',\n",
              " 'u',\n",
              " 'v',\n",
              " 'w',\n",
              " 'x',\n",
              " 'y',\n",
              " 'z',\n",
              " \"'\",\n",
              " '?',\n",
              " '!',\n",
              " '1',\n",
              " '2',\n",
              " '3',\n",
              " '4',\n",
              " '5',\n",
              " '6',\n",
              " '7',\n",
              " '8',\n",
              " '9',\n",
              " ' ']"
            ]
          },
          "metadata": {},
          "execution_count": 9
        }
      ],
      "source": [
        "char_to_num.get_vocabulary()"
      ]
    },
    {
      "cell_type": "code",
      "execution_count": null,
      "metadata": {
        "colab": {
          "base_uri": "https://localhost:8080/"
        },
        "id": "wTWGFFLioMEC",
        "outputId": "9d2ed586-e379-413b-803a-95e15331035f"
      },
      "outputs": [
        {
          "output_type": "execute_result",
          "data": {
            "text/plain": [
              "<tf.Tensor: shape=(4,), dtype=int64, numpy=array([14,  9,  3, 11])>"
            ]
          },
          "metadata": {},
          "execution_count": 10
        }
      ],
      "source": [
        "char_to_num(['n','i','c','k'])"
      ]
    },
    {
      "cell_type": "code",
      "execution_count": null,
      "metadata": {
        "colab": {
          "base_uri": "https://localhost:8080/"
        },
        "id": "0CB7eMy9oO71",
        "outputId": "a1854149-fc23-4d5e-e6c6-7ed754199d72"
      },
      "outputs": [
        {
          "output_type": "execute_result",
          "data": {
            "text/plain": [
              "<tf.Tensor: shape=(4,), dtype=string, numpy=array([b'n', b'i', b'c', b'k'], dtype=object)>"
            ]
          },
          "metadata": {},
          "execution_count": 11
        }
      ],
      "source": [
        "num_to_char([14,  9,  3, 11])"
      ]
    },
    {
      "cell_type": "code",
      "execution_count": null,
      "metadata": {
        "id": "_vss3XACoSW5"
      },
      "outputs": [],
      "source": [
        "def load_alignments(path:str) -> List[str]:\n",
        "    with open(path, 'r') as f:\n",
        "        lines = f.readlines()\n",
        "    tokens = []\n",
        "    for line in lines:\n",
        "        line = line.split()\n",
        "        if line[2] != 'sil':\n",
        "            tokens = [*tokens,' ',line[2]]\n",
        "    return char_to_num(tf.reshape(tf.strings.unicode_split(tokens, input_encoding='UTF-8'), (-1)))[1:]"
      ]
    },
    {
      "cell_type": "code",
      "execution_count": null,
      "metadata": {
        "colab": {
          "base_uri": "https://localhost:8080/"
        },
        "id": "nOarxsjCp4rS",
        "outputId": "0db37682-177a-4909-b81c-06819811a99b"
      },
      "outputs": [
        {
          "output_type": "stream",
          "name": "stdout",
          "text": [
            "bbaf2n.align  brbm9a.align  lbix6p.align  lwafzp.align\tpgbk6n.align  pwidzp.align  sgwd3a.align\n",
            "bbaf3s.align  brbt1s.align  lbix7a.align  lwal2n.align\tpgbk7s.align  pwij2n.align  sgwdzn.align\n",
            "bbaf4p.align  brbt2p.align  lbwe4n.align  lwal3s.align\tpgbk8p.align  pwij3s.align  sgwj4n.align\n",
            "bbaf5a.align  brbt3a.align  lbwe5s.align  lwal4p.align\tpgbk9a.align  pwij4p.align  sgwj5s.align\n",
            "bbal6n.align  brbtzn.align  lbwe6p.align  lwal5a.align\tpgbr1s.align  pwij5a.align  sgwj6p.align\n",
            "bbal7s.align  brif4n.align  lbwe7a.align  lwar6n.align\tpgbr2p.align  pwip6n.align  sgwj7a.align\n",
            "bbal8p.align  brif5s.align  lbwk8n.align  lwar7s.align\tpgbr3a.align  pwip7s.align  sgwp8n.align\n",
            "bbal9a.align  brif6p.align  lbwk9s.align  lwar8p.align\tpgbrzn.align  pwip8p.align  sgwp9s.align\n",
            "bbas1s.align  brif7a.align  lbwl1a.align  lwar9a.align\tpgby4n.align  pwip9a.align  sgwq1a.align\n",
            "bbas2p.align  bril8n.align  lbwlzp.align  lwaz1s.align\tpgby5s.align  pwix1s.align  sgwqzp.align\n",
            "bbas3a.align  bril9s.align  lbwr2n.align  lwaz2p.align\tpgby6p.align  pwix2p.align  sgwx2n.align\n",
            "bbaszn.align  brim1a.align  lbwr3s.align  lwaz3a.align\tpgby7a.align  pwix3a.align  sgwx3s.align\n",
            "bbaz4n.align  brimzp.align  lbwr4p.align  lwazzn.align\tpgid4n.align  pwixzn.align  sgwx4p.align\n",
            "bbaz5s.align  bris2n.align  lbwr5a.align  lwbf2n.align\tpgid5s.align  pwwe1s.align  sgwx5a.align\n",
            "bbaz6p.align  bris3s.align  lbwy6n.align  lwbf3s.align\tpgid6p.align  pwwe2p.align  srab1s.align\n",
            "bbaz7a.align  bris4p.align  lbwy7s.align  lwbf4p.align\tpgid7a.align  pwwe3a.align  srab2p.align\n",
            "bbbf6n.align  bris5a.align  lbwy8p.align  lwbf5a.align\tpgij8n.align  pwwezn.align  srab3a.align\n",
            "bbbf7s.align  briz6n.align  lbwy9a.align  lwbl6n.align\tpgij9s.align  pwwk4n.align  srabzn.align\n",
            "bbbf8p.align  briz7s.align  lgaf4n.align  lwbl7s.align\tpgik1a.align  pwwk5s.align  srah4n.align\n",
            "bbbf9a.align  briz8p.align  lgaf5s.align  lwbl8p.align\tpgikzp.align  pwwk6p.align  srah5s.align\n",
            "bbbm1s.align  briz9a.align  lgaf6p.align  lwbl9a.align\tpgiq2n.align  pwwk7a.align  srah6p.align\n",
            "bbbm2p.align  brwa2n.align  lgaf7a.align  lwbs1s.align\tpgiq3s.align  pwwq8n.align  srah7a.align\n",
            "bbbm3a.align  brwa3s.align  lgal8n.align  lwbs2p.align\tpgiq4p.align  pwwq9s.align  sran8n.align\n",
            "bbbmzn.align  brwa4p.align  lgal9s.align  lwbs3a.align\tpgiq5a.align  pwwr1a.align  sran9s.align\n",
            "bbbs4n.align  brwa5a.align  lgam1a.align  lwbszn.align\tpgix6n.align  pwwrzp.align  srao1a.align\n",
            "bbbs5s.align  brwg6n.align  lgamzp.align  lwbz4n.align\tpgix7s.align  pwwy2n.align  sraozp.align\n",
            "bbbs6p.align  brwg7s.align  lgas2n.align  lwbz5s.align\tpgix8p.align  pwwy3s.align  srau2n.align\n",
            "bbbs7a.align  brwg8p.align  lgas3s.align  lwbz6p.align\tpgix9a.align  pwwy4p.align  srau3s.align\n",
            "bbbz8n.align  brwg9a.align  lgas4p.align  lwbz7a.align\tpgwe6n.align  pwwy5a.align  srau4p.align\n",
            "bbbz9s.align  brwn1s.align  lgas5a.align  lwie4n.align\tpgwe7s.align  sbaa4n.align  srau5a.align\n",
            "bbie8n.align  brwn2p.align  lgaz6n.align  lwie5s.align\tpgwe8p.align  sbaa5s.align  srbb4n.align\n",
            "bbie9s.align  brwn3a.align  lgaz7s.align  lwie6p.align\tpgwe9a.align  sbaa6p.align  srbb5s.align\n",
            "bbif1a.align  brwnzn.align  lgaz8p.align  lwie7a.align\tpgwl1s.align  sbaa7a.align  srbb6p.align\n",
            "bbifzp.align  brwt4n.align  lgaz9a.align  lwik8n.align\tpgwl2p.align  sbag8n.align  srbb7a.align\n",
            "bbil2n.align  brwt5s.align  lgbf8n.align  lwik9s.align\tpgwl3a.align  sbag9s.align  srbh8n.align\n",
            "bbil3s.align  brwt6p.align  lgbf9s.align  lwil1a.align\tpgwlzn.align  sbah1a.align  srbh9s.align\n",
            "bbil4p.align  brwt7a.align  lgbg1a.align  lwilzp.align\tpgwr4n.align  sbahzp.align  srbi1a.align\n",
            "bbil5a.align  bwaa1s.align  lgbgzp.align  lwir2n.align\tpgwr5s.align  sban2n.align  srbizp.align\n",
            "bbir6n.align  bwaa2p.align  lgbm2n.align  lwir3s.align\tpgwr6p.align  sban3s.align  srbo2n.align\n",
            "bbir7s.align  bwaa3a.align  lgbm3s.align  lwir4p.align\tpgwr7a.align  sban4p.align  srbo3s.align\n",
            "bbir8p.align  bwaazn.align  lgbm4p.align  lwir5a.align\tpgwy8n.align  sban5a.align  srbo4p.align\n",
            "bbir9a.align  bwag4n.align  lgbm5a.align  lwiy6n.align\tpgwy9s.align  sbat6n.align  srbo5a.align\n",
            "bbiz1s.align  bwag5s.align  lgbs6n.align  lwiy7s.align\tpgwz1a.align  sbat7s.align  srbu6n.align\n",
            "bbiz2p.align  bwag6p.align  lgbs7s.align  lwiy8p.align\tpgwzzp.align  sbat8p.align  srbu7s.align\n",
            "bbiz3a.align  bwag7a.align  lgbs8p.align  lwiy9a.align\tprac6n.align  sbat9a.align  srbu8p.align\n",
            "bbizzn.align  bwam8n.align  lgbs9a.align  lwwf6n.align\tprac7s.align  sbba8n.align  srbu9a.align\n",
            "bbwg1s.align  bwam9s.align  lgif1s.align  lwwf7s.align\tprac8p.align  sbba9s.align  sria6n.align\n",
            "bbwg2p.align  bwan1a.align  lgif2p.align  lwwf8p.align\tprac9a.align  sbbb1a.align  sria7s.align\n",
            "bbwg3a.align  bwanzp.align  lgif3a.align  lwwf9a.align\tpraj1s.align  sbbbzp.align  sria8p.align\n",
            "bbwgzn.align  bwat2n.align  lgifzn.align  lwwm1s.align\tpraj2p.align  sbbh2n.align  sria9a.align\n",
            "bbwm4n.align  bwat3s.align  lgil4n.align  lwwm2p.align\tpraj3a.align  sbbh3s.align  srih1s.align\n",
            "bbwm5s.align  bwat4p.align  lgil5s.align  lwwm3a.align\tprajzn.align  sbbh4p.align  srih2p.align\n",
            "bbwm6p.align  bwat5a.align  lgil6p.align  lwwmzn.align\tprap4n.align  sbbh5a.align  srih3a.align\n",
            "bbwm7a.align  bwba4n.align  lgil7a.align  lwws4n.align\tprap5s.align  sbbn6n.align  srihzn.align\n",
            "bbws8n.align  bwba5s.align  lgir8n.align  lwws5s.align\tprap6p.align  sbbn7s.align  srin4n.align\n",
            "bbws9s.align  bwba6p.align  lgir9s.align  lwws6p.align\tprap7a.align  sbbn8p.align  srin5s.align\n",
            "bbwt1a.align  bwba7a.align  lgis1a.align  lwws7a.align\tprav8n.align  sbbn9a.align  srin6p.align\n",
            "bbwtzp.align  bwbg8n.align  lgiszp.align  lwwz8n.align\tprav9s.align  sbbu1s.align  srin7a.align\n",
            "bgaa6n.align  bwbg9s.align  lgiz2n.align  lwwz9s.align\tprax1a.align  sbbu2p.align  srit8n.align\n",
            "bgaa7s.align  bwbh1a.align  lgiz3s.align  pbac1s.align\tpraxzp.align  sbbu3a.align  srit9s.align\n",
            "bgaa8p.align  bwbhzp.align  lgiz4p.align  pbac2p.align\tprbd1s.align  sbbuzn.align  sriu1a.align\n",
            "bgaa9a.align  bwbn2n.align  lgiz5a.align  pbac3a.align\tprbd2p.align  sbia1s.align  sriuzp.align\n",
            "bgah1s.align  bwbn3s.align  lgwa1a.align  pbaczn.align\tprbd3a.align  sbia2p.align  srwb8n.align\n",
            "bgah2p.align  bwbn4p.align  lgwazp.align  pbai4n.align\tprbdzn.align  sbia3a.align  srwb9s.align\n",
            "bgah3a.align  bwbn5a.align  lgwg2n.align  pbai5s.align\tprbj4n.align  sbiazn.align  srwc1a.align\n",
            "bgahzn.align  bwbt6n.align  lgwg3s.align  pbai6p.align\tprbj5s.align  sbig4n.align  srwczp.align\n",
            "bgan4n.align  bwbt7s.align  lgwg4p.align  pbai7a.align\tprbj6p.align  sbig5s.align  srwi2n.align\n",
            "bgan5s.align  bwbt8p.align  lgwg5a.align  pbao8n.align\tprbj7a.align  sbig6p.align  srwi3s.align\n",
            "bgan6p.align  bwbt9a.align  lgwm6n.align  pbao9s.align\tprbp8n.align  sbig7a.align  srwi4p.align\n",
            "bgan7a.align  bwig1s.align  lgwm7s.align  pbap1a.align\tprbp9s.align  sbim8n.align  srwi5a.align\n",
            "bgat8n.align  bwig2p.align  lgwm8p.align  pbapzp.align\tprbq1a.align  sbim9s.align  srwo6n.align\n",
            "bgat9s.align  bwig3a.align  lgwm9a.align  pbav2n.align\tprbqzp.align  sbin1a.align  srwo7s.align\n",
            "bgau1a.align  bwigzn.align  lgwt1s.align  pbav3s.align\tprbx2n.align  sbinzp.align  srwo8p.align\n",
            "bgauzp.align  bwim4n.align  lgwt2p.align  pbav4p.align\tprbx3s.align  sbit2n.align  srwo9a.align\n",
            "bgbb1s.align  bwim5s.align  lgwt3a.align  pbav5a.align\tprbx4p.align  sbit3s.align  srwv1s.align\n",
            "bgbb2p.align  bwim6p.align  lgwtzn.align  pbbc4n.align\tprbx5a.align  sbit4p.align  srwv2p.align\n",
            "bgbb3a.align  bwim7a.align  lrae2n.align  pbbc5s.align\tpric2n.align  sbit5a.align  srwv3a.align\n",
            "bgbbzn.align  bwis8n.align  lrae3s.align  pbbc6p.align\tpric3s.align  sbwb2n.align  srwvzn.align\n",
            "bgbh4n.align  bwis9s.align  lrae4p.align  pbbc7a.align\tpric4p.align  sbwb3s.align  swab6n.align\n",
            "bgbh5s.align  bwit1a.align  lrae5a.align  pbbi8n.align\tpric5a.align  sbwb4p.align  swab7s.align\n",
            "bgbh6p.align  bwitzp.align  lrak6n.align  pbbi9s.align\tprii6n.align  sbwb5a.align  swab8p.align\n",
            "bgbh7a.align  bwwa8n.align  lrak7s.align  pbbj1a.align\tprii7s.align  sbwh6n.align  swab9a.align\n",
            "bgbn8n.align  bwwa9s.align  lrak8p.align  pbbjzp.align\tprii8p.align  sbwh7s.align  swai1s.align\n",
            "bgbn9s.align  bwwb1a.align  lrak9a.align  pbbp2n.align\tprii9a.align  sbwh8p.align  swai2p.align\n",
            "bgbo1a.align  bwwbzp.align  lrar1s.align  pbbp3s.align\tprip1s.align  sbwh9a.align  swai3a.align\n",
            "bgbozp.align  bwwh2n.align  lrar2p.align  pbbp4p.align\tprip2p.align  sbwo1s.align  swaizn.align\n",
            "bgbu2n.align  bwwh3s.align  lrar3a.align  pbbp5a.align\tprip3a.align  sbwo2p.align  swao4n.align\n",
            "bgbu3s.align  bwwh4p.align  lrarzn.align  pbbv6n.align\tpripzn.align  sbwo3a.align  swao5s.align\n",
            "bgbu4p.align  bwwh5a.align  lray4n.align  pbbv7s.align\tpriv4n.align  sbwozn.align  swao6p.align\n",
            "bgbu5a.align  bwwn6n.align  lray5s.align  pbbv8p.align\tpriv5s.align  sbwu4n.align  swao7a.align\n",
            "bgia2n.align  bwwn7s.align  lray6p.align  pbbv9a.align\tpriv6p.align  sbwu5s.align  swau8n.align\n",
            "bgia3s.align  bwwn8p.align  lray7a.align  pbib6n.align\tpriv7a.align  sbwu6p.align  swau9s.align\n",
            "bgia4p.align  bwwn9a.align  lrbe6n.align  pbib7s.align\tprwd4n.align  sbwu7a.align  swav1a.align\n",
            "bgia5a.align  bwwu1s.align  lrbe7s.align  pbib8p.align\tprwd5s.align  sgac2n.align  swavzp.align\n",
            "bgig6n.align  bwwu2p.align  lrbe8p.align  pbib9a.align\tprwd6p.align  sgac3s.align  swbc1s.align\n",
            "bgig7s.align  bwwu3a.align  lrbe9a.align  pbii1s.align\tprwd7a.align  sgac4p.align  swbc2p.align\n",
            "bgig8p.align  bwwuzn.align  lrbl1s.align  pbii2p.align\tprwj8n.align  sgac5a.align  swbc3a.align\n",
            "bgig9a.align  lbad6n.align  lrbl2p.align  pbii3a.align\tprwj9s.align  sgai6n.align  swbczn.align\n",
            "bgin1s.align  lbad7s.align  lrbl3a.align  pbiizn.align\tprwk1a.align  sgai7s.align  swbi4n.align\n",
            "bgin2p.align  lbad8p.align  lrblzn.align  pbio4n.align\tprwkzp.align  sgai8p.align  swbi5s.align\n",
            "bgin3a.align  lbad9a.align  lrbr4n.align  pbio5s.align\tprwq2n.align  sgai9a.align  swbi6p.align\n",
            "bginzn.align  lbak1s.align  lrbr5s.align  pbio6p.align\tprwq3s.align  sgap1s.align  swbi7a.align\n",
            "bgit4n.align  lbak2p.align  lrbr6p.align  pbio7a.align\tprwq4p.align  sgap2p.align  swbo8n.align\n",
            "bgit5s.align  lbak3a.align  lrbr7a.align  pbiu8n.align\tprwq5a.align  sgap3a.align  swbo9s.align\n",
            "bgit6p.align  lbakzn.align  lrby8n.align  pbiu9s.align\tprwx6n.align  sgapzn.align  swbp1a.align\n",
            "bgit7a.align  lbaq4n.align  lrby9s.align  pbiv1a.align\tprwx7s.align  sgav4n.align  swbpzp.align\n",
            "bgwb4n.align  lbaq5s.align  lrbz1a.align  pbivzp.align\tprwx8p.align  sgav5s.align  swbv2n.align\n",
            "bgwb5s.align  lbaq6p.align  lrbzzp.align  pbwc8n.align\tprwx9a.align  sgav6p.align  swbv3s.align\n",
            "bgwb6p.align  lbaq7a.align  lrid8n.align  pbwc9s.align\tpwad2n.align  sgav7a.align  swbv4p.align\n",
            "bgwb7a.align  lbax8n.align  lrid9s.align  pbwd1a.align\tpwad3s.align  sgbc6n.align  swbv5a.align\n",
            "bgwh8n.align  lbax9s.align  lrie1a.align  pbwdzp.align\tpwad4p.align  sgbc7s.align  swib2n.align\n",
            "bgwh9s.align  lbay1a.align  lriezp.align  pbwj2n.align\tpwad5a.align  sgbc8p.align  swib3s.align\n",
            "bgwi1a.align  lbayzp.align  lrik2n.align  pbwj3s.align\tpwaj6n.align  sgbc9a.align  swib4p.align\n",
            "bgwizp.align  lbbe1s.align  lrik3s.align  pbwj4p.align\tpwaj7s.align  sgbj1s.align  swib5a.align\n",
            "bgwo2n.align  lbbe2p.align  lrik4p.align  pbwj5a.align\tpwaj8p.align  sgbj2p.align  swih6n.align\n",
            "bgwo3s.align  lbbe3a.align  lrik5a.align  pbwp6n.align\tpwaj9a.align  sgbj3a.align  swih7s.align\n",
            "bgwo4p.align  lbbezn.align  lriq6n.align  pbwp7s.align\tpwaq1s.align  sgbjzn.align  swih8p.align\n",
            "bgwo5a.align  lbbk4n.align  lriq7s.align  pbwp8p.align\tpwaq2p.align  sgbp4n.align  swih9a.align\n",
            "bgwu6n.align  lbbk5s.align  lriq8p.align  pbwp9a.align\tpwaq3a.align  sgbp5s.align  swio1s.align\n",
            "bgwu7s.align  lbbk6p.align  lriq9a.align  pbwx1s.align\tpwaqzn.align  sgbp6p.align  swio2p.align\n",
            "bgwu8p.align  lbbk7a.align  lriy1s.align  pbwx2p.align\tpwax4n.align  sgbp7a.align  swio3a.align\n",
            "bgwu9a.align  lbbq8n.align  lriy2p.align  pbwx3a.align\tpwax5s.align  sgbv8n.align  swiozn.align\n",
            "braf8n.align  lbbq9s.align  lriy3a.align  pbwxzn.align\tpwax6p.align  sgbv9s.align  swiu4n.align\n",
            "braf9s.align  lbbr1a.align  lriyzn.align  pgad8n.align\tpwax7a.align  sgbx1a.align  swiu5s.align\n",
            "brag1a.align  lbbrzp.align  lrwf1s.align  pgad9s.align\tpwbd6n.align  sgbxzp.align  swiu6p.align\n",
            "bragzp.align  lbby2n.align  lrwf2p.align  pgae1a.align\tpwbd7s.align  sgib8n.align  swiu7a.align\n",
            "bram2n.align  lbby3s.align  lrwf3a.align  pgaezp.align\tpwbd8p.align  sgib9s.align  swwc4n.align\n",
            "bram3s.align  lbby4p.align  lrwfzn.align  pgak2n.align\tpwbd9a.align  sgic1a.align  swwc5s.align\n",
            "bram4p.align  lbby5a.align  lrwl4n.align  pgak3s.align\tpwbk1s.align  sgiczp.align  swwc6p.align\n",
            "bram5a.align  lbid2n.align  lrwl5s.align  pgak4p.align\tpwbk2p.align  sgii2n.align  swwc7a.align\n",
            "bras6n.align  lbid3s.align  lrwl6p.align  pgak5a.align\tpwbk3a.align  sgii3s.align  swwi8n.align\n",
            "bras7s.align  lbid4p.align  lrwl7a.align  pgaq6n.align\tpwbkzn.align  sgii4p.align  swwi9s.align\n",
            "bras8p.align  lbid5a.align  lrwr8n.align  pgaq7s.align\tpwbq4n.align  sgii5a.align  swwj1a.align\n",
            "bras9a.align  lbij6n.align  lrwr9s.align  pgaq8p.align\tpwbq5s.align  sgio6n.align  swwjzp.align\n",
            "brba1a.align  lbij7s.align  lrws1a.align  pgaq9a.align\tpwbq6p.align  sgio7s.align  swwp2n.align\n",
            "brbazp.align  lbij8p.align  lrwszp.align  pgay1s.align\tpwbq7a.align  sgio8p.align  swwp3s.align\n",
            "brbg2n.align  lbij9a.align  lrwz2n.align  pgay2p.align\tpwbx8n.align  sgio9a.align  swwp4p.align\n",
            "brbg3s.align  lbiq1s.align  lrwz3s.align  pgay3a.align\tpwbx9s.align  sgiv1s.align  swwp5a.align\n",
            "brbg4p.align  lbiq2p.align  lrwz4p.align  pgayzn.align\tpwby1a.align  sgiv2p.align  swwv6n.align\n",
            "brbg5a.align  lbiq3a.align  lrwz5a.align  pgbe2n.align\tpwbyzp.align  sgiv3a.align  swwv7s.align\n",
            "brbm6n.align  lbiqzn.align  lwae8n.align  pgbe3s.align\tpwic8n.align  sgivzn.align  swwv8p.align\n",
            "brbm7s.align  lbix4n.align  lwae9s.align  pgbe4p.align\tpwic9s.align  sgwd1s.align  swwv9a.align\n",
            "brbm8p.align  lbix5s.align  lwaf1a.align  pgbe5a.align\tpwid1a.align  sgwd2p.align\n"
          ]
        }
      ],
      "source": [
        "!ls /content/data/alignments/s1"
      ]
    },
    {
      "cell_type": "code",
      "execution_count": null,
      "metadata": {
        "id": "dwL8JnpuoXC-"
      },
      "outputs": [],
      "source": [
        "def load_data(path: str):\n",
        "    path = bytes.decode(path.numpy())\n",
        "    file_name = path.split('/')[-1].split('.')[0]\n",
        "    # File name splitting for windows\n",
        "    #file_name = path.split('\\\\')[-1].split('.')[0]\n",
        "    video_path = os.path.join('data','s1',f'{file_name}.mpg')\n",
        "    alignment_path = os.path.join('data','alignments','s1',f'{file_name}.align')\n",
        "    frames = load_video(video_path)\n",
        "    alignments = load_alignments(alignment_path)\n",
        "\n",
        "    return frames, alignments"
      ]
    },
    {
      "cell_type": "code",
      "execution_count": null,
      "metadata": {
        "id": "3oRQ3pP0ob3x"
      },
      "outputs": [],
      "source": [
        "test_path = '/content/data/s1/bbal6n.mpg'"
      ]
    },
    {
      "cell_type": "code",
      "execution_count": null,
      "metadata": {
        "colab": {
          "base_uri": "https://localhost:8080/",
          "height": 35
        },
        "id": "lOZV_PHZo0Te",
        "outputId": "c2132d7b-8362-402b-eef1-9f183d7b887e"
      },
      "outputs": [
        {
          "output_type": "execute_result",
          "data": {
            "text/plain": [
              "'/content/data/s1/bbal6n'"
            ],
            "application/vnd.google.colaboratory.intrinsic+json": {
              "type": "string"
            }
          },
          "metadata": {},
          "execution_count": 16
        }
      ],
      "source": [
        "tf.convert_to_tensor(test_path).numpy().decode('utf-8').split('\\\\')[-1].split('.')[0]"
      ]
    },
    {
      "cell_type": "code",
      "execution_count": null,
      "metadata": {
        "id": "KG971CxOo7QU"
      },
      "outputs": [],
      "source": [
        "frames, alignments = load_data(tf.convert_to_tensor(test_path))"
      ]
    },
    {
      "cell_type": "code",
      "execution_count": null,
      "metadata": {
        "colab": {
          "base_uri": "https://localhost:8080/",
          "height": 244
        },
        "id": "GkCQt7Y2pfQm",
        "outputId": "2b97437c-30dd-4451-f63c-c3cb93f58ad5"
      },
      "outputs": [
        {
          "output_type": "execute_result",
          "data": {
            "text/plain": [
              "<matplotlib.image.AxesImage at 0x7d5591944850>"
            ]
          },
          "metadata": {},
          "execution_count": 18
        },
        {
          "output_type": "display_data",
          "data": {
            "text/plain": [
              "<Figure size 640x480 with 1 Axes>"
            ],
            "image/png": "[encoded data removed]"
          },
          "metadata": {}
        }
      ],
      "source": [
        "plt.imshow(frames[40])"
      ]
    },
    {
      "cell_type": "code",
      "execution_count": null,
      "metadata": {
        "colab": {
          "base_uri": "https://localhost:8080/"
        },
        "id": "tGEE5D2Cqz_I",
        "outputId": "16a85d20-64e5-4a61-bd02-d411b0f291b4"
      },
      "outputs": [
        {
          "output_type": "execute_result",
          "data": {
            "text/plain": [
              "<tf.Tensor: shape=(21,), dtype=int64, numpy=\n",
              "array([ 2,  9, 14, 39,  2, 12, 21,  5, 39,  1, 20, 39, 12, 39, 19,  9, 24,\n",
              "       39, 14, 15, 23])>"
            ]
          },
          "metadata": {},
          "execution_count": 19
        }
      ],
      "source": [
        "alignments"
      ]
    },
    {
      "cell_type": "code",
      "execution_count": null,
      "metadata": {
        "colab": {
          "base_uri": "https://localhost:8080/"
        },
        "id": "SKX6EFNFq6zH",
        "outputId": "6ed61099-ced3-4584-eed5-3a99d99311e9"
      },
      "outputs": [
        {
          "output_type": "execute_result",
          "data": {
            "text/plain": [
              "<tf.Tensor: shape=(), dtype=string, numpy=b'bin blue at l six now'>"
            ]
          },
          "metadata": {},
          "execution_count": 20
        }
      ],
      "source": [
        "tf.strings.reduce_join([bytes.decode(x) for x in num_to_char(alignments.numpy()).numpy()])"
      ]
    },
    {
      "cell_type": "code",
      "execution_count": null,
      "metadata": {
        "id": "GBXwtgk6rLjQ"
      },
      "outputs": [],
      "source": [
        "def mappable_function(path:str) ->List[str]:\n",
        "    result = tf.py_function(load_data, [path], (tf.float32, tf.int64))\n",
        "    return result"
      ]
    },
    {
      "cell_type": "code",
      "execution_count": null,
      "metadata": {
        "id": "aCK-SyLfrOJc"
      },
      "outputs": [],
      "source": [
        "from matplotlib import pyplot as plt"
      ]
    },
    {
      "cell_type": "code",
      "execution_count": null,
      "metadata": {
        "id": "5b3QqRRRrVbo"
      },
      "outputs": [],
      "source": [
        "data = tf.data.Dataset.list_files('./data/s1/*.mpg')\n",
        "data = data.shuffle(500, reshuffle_each_iteration=False)\n",
        "data = data.map(mappable_function)\n",
        "data = data.padded_batch(2, padded_shapes=([75,None,None,None],[40]))\n",
        "data = data.prefetch(tf.data.AUTOTUNE)\n",
        "# Added for split\n",
        "train = data.take(450)\n",
        "test = data.skip(450)"
      ]
    },
    {
      "cell_type": "code",
      "execution_count": null,
      "metadata": {
        "colab": {
          "base_uri": "https://localhost:8080/"
        },
        "id": "JpRe2JDtraKU",
        "outputId": "6e4c1dce-8ed4-4c95-8ebe-046166ab14ab"
      },
      "outputs": [
        {
          "output_type": "execute_result",
          "data": {
            "text/plain": [
              "50"
            ]
          },
          "metadata": {},
          "execution_count": 24
        }
      ],
      "source": [
        "len(test)"
      ]
    },
    {
      "cell_type": "code",
      "execution_count": null,
      "metadata": {
        "id": "Nxdi3EYZreJy"
      },
      "outputs": [],
      "source": [
        "frames, alignments = data.as_numpy_iterator().next()"
      ]
    },
    {
      "cell_type": "code",
      "execution_count": null,
      "metadata": {
        "colab": {
          "base_uri": "https://localhost:8080/"
        },
        "id": "7DJYdW9QrlzT",
        "outputId": "6523dbb2-7104-4272-f1fc-20cba0d552e8"
      },
      "outputs": [
        {
          "output_type": "execute_result",
          "data": {
            "text/plain": [
              "2"
            ]
          },
          "metadata": {},
          "execution_count": 26
        }
      ],
      "source": [
        "len(frames)"
      ]
    },
    {
      "cell_type": "code",
      "execution_count": null,
      "metadata": {
        "id": "Xha-B_gZroWv"
      },
      "outputs": [],
      "source": [
        "sample = data.as_numpy_iterator()"
      ]
    },
    {
      "cell_type": "code",
      "execution_count": null,
      "metadata": {
        "colab": {
          "base_uri": "https://localhost:8080/"
        },
        "id": "-CYi4X_0rsXs",
        "outputId": "f148c321-74b6-4f4b-94e7-4f768b714a34"
      },
      "outputs": [
        {
          "output_type": "execute_result",
          "data": {
            "text/plain": [
              "array([[[[[ 1.4244655 ],\n",
              "          [ 1.4244655 ],\n",
              "          [ 1.4676311 ],\n",
              "          ...,\n",
              "          [ 0.        ],\n",
              "          [ 0.        ],\n",
              "          [ 0.        ]],\n",
              "\n",
              "         [[ 1.4244655 ],\n",
              "          [ 1.4244655 ],\n",
              "          [ 1.4676311 ],\n",
              "          ...,\n",
              "          [ 0.        ],\n",
              "          [ 0.        ],\n",
              "          [ 0.        ]],\n",
              "\n",
              "         [[ 1.4676311 ],\n",
              "          [ 1.4676311 ],\n",
              "          [ 1.4244655 ],\n",
              "          ...,\n",
              "          [10.964067  ],\n",
              "          [10.964067  ],\n",
              "          [10.964067  ]],\n",
              "\n",
              "         ...,\n",
              "\n",
              "         [[ 0.9928093 ],\n",
              "          [ 0.9928093 ],\n",
              "          [ 0.9496437 ],\n",
              "          ...,\n",
              "          [10.7482395 ],\n",
              "          [10.7482395 ],\n",
              "          [10.7482395 ]],\n",
              "\n",
              "         [[ 0.9928093 ],\n",
              "          [ 0.9928093 ],\n",
              "          [ 0.9496437 ],\n",
              "          ...,\n",
              "          [10.705074  ],\n",
              "          [10.705074  ],\n",
              "          [10.705074  ]],\n",
              "\n",
              "         [[ 0.9928093 ],\n",
              "          [ 0.9928093 ],\n",
              "          [ 0.9496437 ],\n",
              "          ...,\n",
              "          [10.705074  ],\n",
              "          [10.705074  ],\n",
              "          [10.705074  ]]],\n",
              "\n",
              "\n",
              "        [[[ 1.3812999 ],\n",
              "          [ 1.3812999 ],\n",
              "          [ 1.4244655 ],\n",
              "          ...,\n",
              "          [11.007234  ],\n",
              "          [11.007234  ],\n",
              "          [11.007234  ]],\n",
              "\n",
              "         [[ 1.3812999 ],\n",
              "          [ 1.3812999 ],\n",
              "          [ 1.4244655 ],\n",
              "          ...,\n",
              "          [11.007234  ],\n",
              "          [11.007234  ],\n",
              "          [11.007234  ]],\n",
              "\n",
              "         [[ 1.4244655 ],\n",
              "          [ 1.4244655 ],\n",
              "          [ 1.4244655 ],\n",
              "          ...,\n",
              "          [10.964067  ],\n",
              "          [10.964067  ],\n",
              "          [10.964067  ]],\n",
              "\n",
              "         ...,\n",
              "\n",
              "         [[ 0.9496437 ],\n",
              "          [ 0.9496437 ],\n",
              "          [ 0.9496437 ],\n",
              "          ...,\n",
              "          [10.705074  ],\n",
              "          [10.705074  ],\n",
              "          [10.705074  ]],\n",
              "\n",
              "         [[ 0.9496437 ],\n",
              "          [ 0.9496437 ],\n",
              "          [ 0.9496437 ],\n",
              "          ...,\n",
              "          [10.705074  ],\n",
              "          [10.705074  ],\n",
              "          [10.705074  ]],\n",
              "\n",
              "         [[ 0.9496437 ],\n",
              "          [ 0.9496437 ],\n",
              "          [ 0.9496437 ],\n",
              "          ...,\n",
              "          [10.705074  ],\n",
              "          [10.705074  ],\n",
              "          [10.705074  ]]],\n",
              "\n",
              "\n",
              "        [[[ 1.3812999 ],\n",
              "          [ 1.3812999 ],\n",
              "          [ 1.4676311 ],\n",
              "          ...,\n",
              "          [ 0.        ],\n",
              "          [11.007234  ],\n",
              "          [11.007234  ]],\n",
              "\n",
              "         [[ 1.3812999 ],\n",
              "          [ 1.3812999 ],\n",
              "          [ 1.4676311 ],\n",
              "          ...,\n",
              "          [ 0.        ],\n",
              "          [11.007234  ],\n",
              "          [11.007234  ]],\n",
              "\n",
              "         [[ 1.3812999 ],\n",
              "          [ 1.3812999 ],\n",
              "          [ 1.4244655 ],\n",
              "          ...,\n",
              "          [10.964067  ],\n",
              "          [10.964067  ],\n",
              "          [10.964067  ]],\n",
              "\n",
              "         ...,\n",
              "\n",
              "         [[ 0.9928093 ],\n",
              "          [ 0.9928093 ],\n",
              "          [ 0.9496437 ],\n",
              "          ...,\n",
              "          [10.705074  ],\n",
              "          [10.705074  ],\n",
              "          [10.705074  ]],\n",
              "\n",
              "         [[ 0.9928093 ],\n",
              "          [ 0.9928093 ],\n",
              "          [ 0.9496437 ],\n",
              "          ...,\n",
              "          [10.705074  ],\n",
              "          [10.705074  ],\n",
              "          [10.705074  ]],\n",
              "\n",
              "         [[ 0.9928093 ],\n",
              "          [ 0.9928093 ],\n",
              "          [ 0.9496437 ],\n",
              "          ...,\n",
              "          [10.705074  ],\n",
              "          [10.705074  ],\n",
              "          [10.705074  ]]],\n",
              "\n",
              "\n",
              "        ...,\n",
              "\n",
              "\n",
              "        [[[ 1.4676311 ],\n",
              "          [ 1.4676311 ],\n",
              "          [ 1.3812999 ],\n",
              "          ...,\n",
              "          [ 0.04316562],\n",
              "          [ 0.04316562],\n",
              "          [ 0.04316562]],\n",
              "\n",
              "         [[ 1.4244655 ],\n",
              "          [ 1.4244655 ],\n",
              "          [ 1.3381343 ],\n",
              "          ...,\n",
              "          [ 0.        ],\n",
              "          [ 0.04316562],\n",
              "          [ 0.04316562]],\n",
              "\n",
              "         [[ 1.3812999 ],\n",
              "          [ 1.3812999 ],\n",
              "          [ 1.3812999 ],\n",
              "          ...,\n",
              "          [11.007234  ],\n",
              "          [11.007234  ],\n",
              "          [11.007234  ]],\n",
              "\n",
              "         ...,\n",
              "\n",
              "         [[ 0.9928093 ],\n",
              "          [ 0.9928093 ],\n",
              "          [ 0.9928093 ],\n",
              "          ...,\n",
              "          [10.705074  ],\n",
              "          [10.661908  ],\n",
              "          [10.705074  ]],\n",
              "\n",
              "         [[ 0.9928093 ],\n",
              "          [ 0.9928093 ],\n",
              "          [ 0.9928093 ],\n",
              "          ...,\n",
              "          [10.705074  ],\n",
              "          [10.661908  ],\n",
              "          [10.661908  ]],\n",
              "\n",
              "         [[ 0.9928093 ],\n",
              "          [ 0.9928093 ],\n",
              "          [ 0.9496437 ],\n",
              "          ...,\n",
              "          [10.661908  ],\n",
              "          [10.618743  ],\n",
              "          [10.661908  ]]],\n",
              "\n",
              "\n",
              "        [[[ 1.3812999 ],\n",
              "          [ 1.3812999 ],\n",
              "          [ 1.3812999 ],\n",
              "          ...,\n",
              "          [ 0.04316562],\n",
              "          [ 0.        ],\n",
              "          [ 0.        ]],\n",
              "\n",
              "         [[ 1.3812999 ],\n",
              "          [ 1.3812999 ],\n",
              "          [ 1.3812999 ],\n",
              "          ...,\n",
              "          [ 0.        ],\n",
              "          [ 0.        ],\n",
              "          [ 0.        ]],\n",
              "\n",
              "         [[ 1.3812999 ],\n",
              "          [ 1.3812999 ],\n",
              "          [ 1.3812999 ],\n",
              "          ...,\n",
              "          [11.007234  ],\n",
              "          [11.007234  ],\n",
              "          [11.007234  ]],\n",
              "\n",
              "         ...,\n",
              "\n",
              "         [[ 0.9928093 ],\n",
              "          [ 0.9928093 ],\n",
              "          [ 0.9928093 ],\n",
              "          ...,\n",
              "          [10.7482395 ],\n",
              "          [10.705074  ],\n",
              "          [10.705074  ]],\n",
              "\n",
              "         [[ 0.9928093 ],\n",
              "          [ 0.9928093 ],\n",
              "          [ 0.9928093 ],\n",
              "          ...,\n",
              "          [10.705074  ],\n",
              "          [10.705074  ],\n",
              "          [10.661908  ]],\n",
              "\n",
              "         [[ 0.9928093 ],\n",
              "          [ 0.9928093 ],\n",
              "          [ 0.9496437 ],\n",
              "          ...,\n",
              "          [10.705074  ],\n",
              "          [10.661908  ],\n",
              "          [10.661908  ]]],\n",
              "\n",
              "\n",
              "        [[[ 1.3812999 ],\n",
              "          [ 1.3812999 ],\n",
              "          [ 1.3812999 ],\n",
              "          ...,\n",
              "          [11.007234  ],\n",
              "          [11.007234  ],\n",
              "          [11.007234  ]],\n",
              "\n",
              "         [[ 1.3812999 ],\n",
              "          [ 1.3812999 ],\n",
              "          [ 1.3812999 ],\n",
              "          ...,\n",
              "          [10.964067  ],\n",
              "          [11.007234  ],\n",
              "          [11.007234  ]],\n",
              "\n",
              "         [[ 1.4244655 ],\n",
              "          [ 1.4244655 ],\n",
              "          [ 1.3812999 ],\n",
              "          ...,\n",
              "          [11.007234  ],\n",
              "          [11.007234  ],\n",
              "          [11.007234  ]],\n",
              "\n",
              "         ...,\n",
              "\n",
              "         [[ 1.0359749 ],\n",
              "          [ 0.9928093 ],\n",
              "          [ 0.9928093 ],\n",
              "          ...,\n",
              "          [10.7482395 ],\n",
              "          [10.705074  ],\n",
              "          [10.705074  ]],\n",
              "\n",
              "         [[ 0.9928093 ],\n",
              "          [ 0.9928093 ],\n",
              "          [ 0.9496437 ],\n",
              "          ...,\n",
              "          [10.705074  ],\n",
              "          [10.705074  ],\n",
              "          [10.661908  ]],\n",
              "\n",
              "         [[ 0.9496437 ],\n",
              "          [ 0.9496437 ],\n",
              "          [ 0.9496437 ],\n",
              "          ...,\n",
              "          [10.705074  ],\n",
              "          [10.661908  ],\n",
              "          [10.661908  ]]]],\n",
              "\n",
              "\n",
              "\n",
              "       [[[[ 1.1987919 ],\n",
              "          [ 1.3921453 ],\n",
              "          [ 0.8894262 ],\n",
              "          ...,\n",
              "          [ 0.38670704],\n",
              "          [ 0.38670704],\n",
              "          [ 0.38670704]],\n",
              "\n",
              "         [[ 1.430816  ],\n",
              "          [ 1.314804  ],\n",
              "          [ 0.8120848 ],\n",
              "          ...,\n",
              "          [ 0.38670704],\n",
              "          [ 0.38670704],\n",
              "          [ 0.38670704]],\n",
              "\n",
              "         [[ 1.430816  ],\n",
              "          [ 1.5081575 ],\n",
              "          [ 1.430816  ],\n",
              "          ...,\n",
              "          [ 0.42537773],\n",
              "          [ 0.38670704],\n",
              "          [ 0.38670704]],\n",
              "\n",
              "         ...,\n",
              "\n",
              "         [[ 1.1214504 ],\n",
              "          [ 1.1214504 ],\n",
              "          [ 1.1214504 ],\n",
              "          ...,\n",
              "          [ 0.07734141],\n",
              "          [ 0.07734141],\n",
              "          [ 0.07734141]],\n",
              "\n",
              "         [[ 1.1214504 ],\n",
              "          [ 1.1214504 ],\n",
              "          [ 1.1214504 ],\n",
              "          ...,\n",
              "          [ 0.07734141],\n",
              "          [ 0.07734141],\n",
              "          [ 0.07734141]],\n",
              "\n",
              "         [[ 1.1214504 ],\n",
              "          [ 1.1214504 ],\n",
              "          [ 1.1214504 ],\n",
              "          ...,\n",
              "          [ 0.07734141],\n",
              "          [ 0.07734141],\n",
              "          [ 0.0386707 ]]],\n",
              "\n",
              "\n",
              "        [[[ 1.430816  ],\n",
              "          [ 1.430816  ],\n",
              "          [ 0.9280969 ],\n",
              "          ...,\n",
              "          [ 0.38670704],\n",
              "          [ 0.34803632],\n",
              "          [ 0.34803632]],\n",
              "\n",
              "         [[ 1.4694867 ],\n",
              "          [ 1.3921453 ],\n",
              "          [ 0.7734141 ],\n",
              "          ...,\n",
              "          [ 0.38670704],\n",
              "          [ 0.34803632],\n",
              "          [ 0.34803632]],\n",
              "\n",
              "         [[ 1.5468282 ],\n",
              "          [ 1.430816  ],\n",
              "          [ 1.3534746 ],\n",
              "          ...,\n",
              "          [ 0.38670704],\n",
              "          [ 0.34803632],\n",
              "          [ 0.30936563]],\n",
              "\n",
              "         ...,\n",
              "\n",
              "         [[ 1.1214504 ],\n",
              "          [ 1.1214504 ],\n",
              "          [ 1.1214504 ],\n",
              "          ...,\n",
              "          [ 0.07734141],\n",
              "          [ 0.07734141],\n",
              "          [ 0.0386707 ]],\n",
              "\n",
              "         [[ 1.0827796 ],\n",
              "          [ 1.0827796 ],\n",
              "          [ 1.0827796 ],\n",
              "          ...,\n",
              "          [ 0.07734141],\n",
              "          [ 0.0386707 ],\n",
              "          [ 0.0386707 ]],\n",
              "\n",
              "         [[ 1.0827796 ],\n",
              "          [ 1.0827796 ],\n",
              "          [ 1.0827796 ],\n",
              "          ...,\n",
              "          [ 0.0386707 ],\n",
              "          [ 0.0386707 ],\n",
              "          [ 0.0386707 ]]],\n",
              "\n",
              "\n",
              "        [[[ 1.5081575 ],\n",
              "          [ 1.4694867 ],\n",
              "          [ 0.9280969 ],\n",
              "          ...,\n",
              "          [ 0.38670704],\n",
              "          [ 0.34803632],\n",
              "          [ 0.34803632]],\n",
              "\n",
              "         [[ 1.4694867 ],\n",
              "          [ 1.4694867 ],\n",
              "          [ 0.7734141 ],\n",
              "          ...,\n",
              "          [ 0.38670704],\n",
              "          [ 0.34803632],\n",
              "          [ 0.34803632]],\n",
              "\n",
              "         [[ 1.6241696 ],\n",
              "          [ 1.5468282 ],\n",
              "          [ 1.314804  ],\n",
              "          ...,\n",
              "          [ 0.38670704],\n",
              "          [ 0.34803632],\n",
              "          [ 0.30936563]],\n",
              "\n",
              "         ...,\n",
              "\n",
              "         [[ 1.1214504 ],\n",
              "          [ 1.1214504 ],\n",
              "          [ 1.1214504 ],\n",
              "          ...,\n",
              "          [ 0.07734141],\n",
              "          [ 0.07734141],\n",
              "          [ 0.0386707 ]],\n",
              "\n",
              "         [[ 1.0827796 ],\n",
              "          [ 1.0827796 ],\n",
              "          [ 1.0827796 ],\n",
              "          ...,\n",
              "          [ 0.07734141],\n",
              "          [ 0.0386707 ],\n",
              "          [ 0.0386707 ]],\n",
              "\n",
              "         [[ 1.0827796 ],\n",
              "          [ 1.0827796 ],\n",
              "          [ 1.0827796 ],\n",
              "          ...,\n",
              "          [ 0.0386707 ],\n",
              "          [ 0.0386707 ],\n",
              "          [ 0.0386707 ]]],\n",
              "\n",
              "\n",
              "        ...,\n",
              "\n",
              "\n",
              "        [[[ 0.85075545],\n",
              "          [ 1.044109  ],\n",
              "          [ 1.0827796 ],\n",
              "          ...,\n",
              "          [ 0.34803632],\n",
              "          [ 0.34803632],\n",
              "          [ 0.34803632]],\n",
              "\n",
              "         [[ 0.9280969 ],\n",
              "          [ 0.657402  ],\n",
              "          [ 0.5413898 ],\n",
              "          ...,\n",
              "          [ 0.34803632],\n",
              "          [ 0.34803632],\n",
              "          [ 0.34803632]],\n",
              "\n",
              "         [[ 1.314804  ],\n",
              "          [ 1.2374625 ],\n",
              "          [ 0.7734141 ],\n",
              "          ...,\n",
              "          [ 0.38670704],\n",
              "          [ 0.34803632],\n",
              "          [ 0.34803632]],\n",
              "\n",
              "         ...,\n",
              "\n",
              "         [[ 1.1214504 ],\n",
              "          [ 1.1214504 ],\n",
              "          [ 1.1214504 ],\n",
              "          ...,\n",
              "          [ 0.07734141],\n",
              "          [ 0.07734141],\n",
              "          [ 0.07734141]],\n",
              "\n",
              "         [[ 1.1214504 ],\n",
              "          [ 1.1214504 ],\n",
              "          [ 1.1214504 ],\n",
              "          ...,\n",
              "          [ 0.07734141],\n",
              "          [ 0.07734141],\n",
              "          [ 0.0386707 ]],\n",
              "\n",
              "         [[ 1.1214504 ],\n",
              "          [ 1.1214504 ],\n",
              "          [ 1.0827796 ],\n",
              "          ...,\n",
              "          [ 0.07734141],\n",
              "          [ 0.0386707 ],\n",
              "          [ 0.0386707 ]]],\n",
              "\n",
              "\n",
              "        [[[ 0.7734141 ],\n",
              "          [ 1.044109  ],\n",
              "          [ 1.1987919 ],\n",
              "          ...,\n",
              "          [ 0.2706949 ],\n",
              "          [ 0.2706949 ],\n",
              "          [ 0.2706949 ]],\n",
              "\n",
              "         [[ 0.7734141 ],\n",
              "          [ 0.69607264],\n",
              "          [ 0.46404845],\n",
              "          ...,\n",
              "          [ 0.2706949 ],\n",
              "          [ 0.2706949 ],\n",
              "          [ 0.2706949 ]],\n",
              "\n",
              "         [[ 1.2761332 ],\n",
              "          [ 1.1214504 ],\n",
              "          [ 0.73474336],\n",
              "          ...,\n",
              "          [ 0.34803632],\n",
              "          [ 0.34803632],\n",
              "          [ 0.34803632]],\n",
              "\n",
              "         ...,\n",
              "\n",
              "         [[ 1.1601211 ],\n",
              "          [ 1.1214504 ],\n",
              "          [ 1.1214504 ],\n",
              "          ...,\n",
              "          [ 0.0386707 ],\n",
              "          [ 0.0386707 ],\n",
              "          [ 0.        ]],\n",
              "\n",
              "         [[ 1.1601211 ],\n",
              "          [ 1.1214504 ],\n",
              "          [ 1.1214504 ],\n",
              "          ...,\n",
              "          [ 0.0386707 ],\n",
              "          [ 0.0386707 ],\n",
              "          [ 0.        ]],\n",
              "\n",
              "         [[ 1.1601211 ],\n",
              "          [ 1.1214504 ],\n",
              "          [ 1.1214504 ],\n",
              "          ...,\n",
              "          [ 0.0386707 ],\n",
              "          [ 0.        ],\n",
              "          [ 0.        ]]],\n",
              "\n",
              "\n",
              "        [[[ 0.7734141 ],\n",
              "          [ 1.0054383 ],\n",
              "          [ 1.1601211 ],\n",
              "          ...,\n",
              "          [ 0.30936563],\n",
              "          [ 0.30936563],\n",
              "          [ 0.30936563]],\n",
              "\n",
              "         [[ 0.8120848 ],\n",
              "          [ 0.7734141 ],\n",
              "          [ 0.42537773],\n",
              "          ...,\n",
              "          [ 0.30936563],\n",
              "          [ 0.30936563],\n",
              "          [ 0.30936563]],\n",
              "\n",
              "         [[ 1.2761332 ],\n",
              "          [ 1.0827796 ],\n",
              "          [ 0.61873126],\n",
              "          ...,\n",
              "          [ 0.38670704],\n",
              "          [ 0.34803632],\n",
              "          [ 0.34803632]],\n",
              "\n",
              "         ...,\n",
              "\n",
              "         [[ 1.1601211 ],\n",
              "          [ 1.1214504 ],\n",
              "          [ 1.1214504 ],\n",
              "          ...,\n",
              "          [ 0.0386707 ],\n",
              "          [ 0.0386707 ],\n",
              "          [ 0.        ]],\n",
              "\n",
              "         [[ 1.1601211 ],\n",
              "          [ 1.1214504 ],\n",
              "          [ 1.1214504 ],\n",
              "          ...,\n",
              "          [ 0.0386707 ],\n",
              "          [ 0.0386707 ],\n",
              "          [ 0.        ]],\n",
              "\n",
              "         [[ 1.1601211 ],\n",
              "          [ 1.1214504 ],\n",
              "          [ 1.1214504 ],\n",
              "          ...,\n",
              "          [ 0.0386707 ],\n",
              "          [ 0.        ],\n",
              "          [ 0.        ]]]]], dtype=float32)"
            ]
          },
          "metadata": {},
          "execution_count": 28
        }
      ],
      "source": [
        "val = sample.next(); val[0]"
      ]
    },
    {
      "cell_type": "code",
      "execution_count": null,
      "metadata": {
        "colab": {
          "base_uri": "https://localhost:8080/",
          "height": 244
        },
        "id": "En65mZPgskdC",
        "outputId": "a1cfbb98-2d8f-4668-dbd4-05f6635d454f"
      },
      "outputs": [
        {
          "output_type": "execute_result",
          "data": {
            "text/plain": [
              "<matplotlib.image.AxesImage at 0x7d552a26bc40>"
            ]
          },
          "metadata": {},
          "execution_count": 29
        },
        {
          "output_type": "display_data",
          "data": {
            "text/plain": [
              "<Figure size 640x480 with 1 Axes>"
            ],
            "image/png": "[encoded data removed]"
          },
          "metadata": {}
        }
      ],
      "source": [
        "plt.imshow(val[0][0][35])"
      ]
    },
    {
      "cell_type": "code",
      "execution_count": null,
      "metadata": {
        "colab": {
          "base_uri": "https://localhost:8080/"
        },
        "id": "rTeURGuLuwBf",
        "outputId": "b06ddbf5-cc8d-4a4f-9e19-d82fb55b672d"
      },
      "outputs": [
        {
          "output_type": "execute_result",
          "data": {
            "text/plain": [
              "<tf.Tensor: shape=(), dtype=string, numpy=b'bin blue with m six please'>"
            ]
          },
          "metadata": {},
          "execution_count": 30
        }
      ],
      "source": [
        "tf.strings.reduce_join([num_to_char(word) for word in val[1][0]])"
      ]
    },
    {
      "cell_type": "code",
      "execution_count": null,
      "metadata": {
        "id": "CdMzSb23vIZ5"
      },
      "outputs": [],
      "source": [
        "from tensorflow.keras.models import Sequential\n",
        "from tensorflow.keras.layers import Conv3D, LSTM, Dense, Dropout, Bidirectional, MaxPool3D, Activation, Reshape, SpatialDropout3D, BatchNormalization, TimeDistributed, Flatten\n",
        "from tensorflow.keras.optimizers import Adam\n",
        "from tensorflow.keras.callbacks import ModelCheckpoint, LearningRateScheduler"
      ]
    },
    {
      "cell_type": "code",
      "execution_count": null,
      "metadata": {
        "colab": {
          "base_uri": "https://localhost:8080/"
        },
        "id": "9oyCyBDJvZO1",
        "outputId": "64d39598-f4fa-4cd0-9f57-c9c61fdc699e"
      },
      "outputs": [
        {
          "output_type": "execute_result",
          "data": {
            "text/plain": [
              "(75, 46, 140, 1)"
            ]
          },
          "metadata": {},
          "execution_count": 32
        }
      ],
      "source": [
        "data.as_numpy_iterator().next()[0][0].shape"
      ]
    },
    {
      "cell_type": "code",
      "execution_count": null,
      "metadata": {
        "id": "FpCAWbAEvepU"
      },
      "outputs": [],
      "source": [
        "model = Sequential()\n",
        "model.add(Conv3D(128, 3, input_shape=(75,46,140,1), padding='same'))\n",
        "model.add(Activation('relu'))\n",
        "model.add(MaxPool3D((1,2,2)))\n",
        "\n",
        "model.add(Conv3D(256, 3, padding='same'))\n",
        "model.add(Activation('relu'))\n",
        "model.add(MaxPool3D((1,2,2)))\n",
        "\n",
        "model.add(Conv3D(75, 3, padding='same'))\n",
        "model.add(Activation('relu'))\n",
        "model.add(MaxPool3D((1,2,2)))\n",
        "\n",
        "model.add(TimeDistributed(Flatten()))\n",
        "\n",
        "model.add(Bidirectional(LSTM(128, kernel_initializer='Orthogonal', return_sequences=True)))\n",
        "model.add(Dropout(.5))\n",
        "\n",
        "model.add(Bidirectional(LSTM(128, kernel_initializer='Orthogonal', return_sequences=True)))\n",
        "model.add(Dropout(.5))\n",
        "\n",
        "model.add(Dense(char_to_num.vocabulary_size()+1, kernel_initializer='he_normal', activation='softmax'))"
      ]
    },
    {
      "cell_type": "code",
      "execution_count": null,
      "metadata": {
        "colab": {
          "base_uri": "https://localhost:8080/"
        },
        "id": "0mVzDAxVvos_",
        "outputId": "669fa448-7cbb-492d-c45f-45ce489b8d0a"
      },
      "outputs": [
        {
          "output_type": "stream",
          "name": "stdout",
          "text": [
            "Model: \"sequential\"\n",
            "_________________________________________________________________\n",
            " Layer (type)                Output Shape              Param #   \n",
            "=================================================================\n",
            " conv3d (Conv3D)             (None, 75, 46, 140, 128   3584      \n",
            "                             )                                   \n",
            "                                                                 \n",
            " activation (Activation)     (None, 75, 46, 140, 128   0         \n",
            "                             )                                   \n",
            "                                                                 \n",
            " max_pooling3d (MaxPooling3  (None, 75, 23, 70, 128)   0         \n",
            " D)                                                              \n",
            "                                                                 \n",
            " conv3d_1 (Conv3D)           (None, 75, 23, 70, 256)   884992    \n",
            "                                                                 \n",
            " activation_1 (Activation)   (None, 75, 23, 70, 256)   0         \n",
            "                                                                 \n",
            " max_pooling3d_1 (MaxPoolin  (None, 75, 11, 35, 256)   0         \n",
            " g3D)                                                            \n",
            "                                                                 \n",
            " conv3d_2 (Conv3D)           (None, 75, 11, 35, 75)    518475    \n",
            "                                                                 \n",
            " activation_2 (Activation)   (None, 75, 11, 35, 75)    0         \n",
            "                                                                 \n",
            " max_pooling3d_2 (MaxPoolin  (None, 75, 5, 17, 75)     0         \n",
            " g3D)                                                            \n",
            "                                                                 \n",
            " time_distributed (TimeDist  (None, 75, 6375)          0         \n",
            " ributed)                                                        \n",
            "                                                                 \n",
            " bidirectional (Bidirection  (None, 75, 256)           6660096   \n",
            " al)                                                             \n",
            "                                                                 \n",
            " dropout (Dropout)           (None, 75, 256)           0         \n",
            "                                                                 \n",
            " bidirectional_1 (Bidirecti  (None, 75, 256)           394240    \n",
            " onal)                                                           \n",
            "                                                                 \n",
            " dropout_1 (Dropout)         (None, 75, 256)           0         \n",
            "                                                                 \n",
            " dense (Dense)               (None, 75, 41)            10537     \n",
            "                                                                 \n",
            "=================================================================\n",
            "Total params: 8471924 (32.32 MB)\n",
            "Trainable params: 8471924 (32.32 MB)\n",
            "Non-trainable params: 0 (0.00 Byte)\n",
            "_________________________________________________________________\n"
          ]
        }
      ],
      "source": [
        "model.summary()"
      ]
    },
    {
      "cell_type": "code",
      "execution_count": null,
      "metadata": {
        "colab": {
          "base_uri": "https://localhost:8080/"
        },
        "id": "a9pskNo0vvh6",
        "outputId": "f0eef322-84ff-4163-e55f-58fe6de1f035"
      },
      "outputs": [
        {
          "data": {
            "text/plain": [
              "6375"
            ]
          },
          "execution_count": 36,
          "metadata": {},
          "output_type": "execute_result"
        }
      ],
      "source": [
        "5*17*75"
      ]
    },
    {
      "cell_type": "code",
      "execution_count": null,
      "metadata": {
        "colab": {
          "base_uri": "https://localhost:8080/"
        },
        "id": "6J889goOv6hm",
        "outputId": "3d39e543-40ee-463a-c75e-4adc06f9f782"
      },
      "outputs": [
        {
          "output_type": "stream",
          "name": "stdout",
          "text": [
            "1/1 [==============================] - 5s 5s/step\n"
          ]
        }
      ],
      "source": [
        "yhat = model.predict(val[0])"
      ]
    },
    {
      "cell_type": "code",
      "execution_count": null,
      "metadata": {
        "colab": {
          "base_uri": "https://localhost:8080/"
        },
        "id": "7q6llMCev9V7",
        "outputId": "bdf3b352-3553-413f-be5b-ab8b8c8562ae"
      },
      "outputs": [
        {
          "output_type": "execute_result",
          "data": {
            "text/plain": [
              "<tf.Tensor: shape=(), dtype=string, numpy=b'ssss55555555555555555555555555555555555555555555555555555555555555555555555'>"
            ]
          },
          "metadata": {},
          "execution_count": 36
        }
      ],
      "source": [
        "tf.strings.reduce_join([num_to_char(x) for x in tf.argmax(yhat[0],axis=1)])"
      ]
    },
    {
      "cell_type": "code",
      "execution_count": null,
      "metadata": {
        "colab": {
          "base_uri": "https://localhost:8080/"
        },
        "id": "VAB8Le8qwDDU",
        "outputId": "3a194f6e-4dfe-4850-e8e2-160dbe60e673"
      },
      "outputs": [
        {
          "output_type": "execute_result",
          "data": {
            "text/plain": [
              "<tf.Tensor: shape=(), dtype=string, numpy=b'ssss55555555555555555555555555555555555555555555555555555555555555555555555'>"
            ]
          },
          "metadata": {},
          "execution_count": 37
        }
      ],
      "source": [
        "tf.strings.reduce_join([num_to_char(tf.argmax(x)) for x in yhat[0]])"
      ]
    },
    {
      "cell_type": "code",
      "execution_count": null,
      "metadata": {
        "colab": {
          "base_uri": "https://localhost:8080/"
        },
        "id": "wuHXntmFwGZm",
        "outputId": "e34388c6-2d2b-45a0-f451-ef30c2c839ed"
      },
      "outputs": [
        {
          "output_type": "execute_result",
          "data": {
            "text/plain": [
              "(None, 75, 46, 140, 1)"
            ]
          },
          "metadata": {},
          "execution_count": 38
        }
      ],
      "source": [
        "model.input_shape"
      ]
    },
    {
      "cell_type": "code",
      "execution_count": null,
      "metadata": {
        "colab": {
          "base_uri": "https://localhost:8080/"
        },
        "id": "9v_UIrKjwPZq",
        "outputId": "902b7b45-69b5-44ec-cc84-560dadb7b871"
      },
      "outputs": [
        {
          "output_type": "execute_result",
          "data": {
            "text/plain": [
              "(None, 75, 41)"
            ]
          },
          "metadata": {},
          "execution_count": 39
        }
      ],
      "source": [
        "model.output_shape"
      ]
    },
    {
      "cell_type": "markdown",
      "metadata": {
        "id": "sYRy62FZwV06"
      },
      "source": [
        "Training Options and Train\n"
      ]
    },
    {
      "cell_type": "code",
      "execution_count": null,
      "metadata": {
        "id": "ZJEmDDnRwcR_"
      },
      "outputs": [],
      "source": [
        "def scheduler(epoch, lr):\n",
        "    if epoch < 30:\n",
        "        return lr\n",
        "    else:\n",
        "        return lr * tf.math.exp(-0.1)"
      ]
    },
    {
      "cell_type": "code",
      "execution_count": null,
      "metadata": {
        "id": "Jq-zOi8awelE"
      },
      "outputs": [],
      "source": [
        "def CTCLoss(y_true, y_pred):\n",
        "    batch_len = tf.cast(tf.shape(y_true)[0], dtype=\"int64\")\n",
        "    input_length = tf.cast(tf.shape(y_pred)[1], dtype=\"int64\")\n",
        "    label_length = tf.cast(tf.shape(y_true)[1], dtype=\"int64\")\n",
        "\n",
        "    input_length = input_length * tf.ones(shape=(batch_len, 1), dtype=\"int64\")\n",
        "    label_length = label_length * tf.ones(shape=(batch_len, 1), dtype=\"int64\")\n",
        "\n",
        "    loss = tf.keras.backend.ctc_batch_cost(y_true, y_pred, input_length, label_length)\n",
        "    return loss"
      ]
    },
    {
      "cell_type": "code",
      "execution_count": null,
      "metadata": {
        "id": "Lvi8Mj0dwhiy"
      },
      "outputs": [],
      "source": [
        "class ProduceExample(tf.keras.callbacks.Callback):\n",
        "    def __init__(self, dataset) -> None:\n",
        "        self.dataset = dataset.as_numpy_iterator()\n",
        "\n",
        "    def on_epoch_end(self, epoch, logs=None) -> None:\n",
        "        data = self.dataset.next()\n",
        "        yhat = self.model.predict(data[0])\n",
        "        decoded = tf.keras.backend.ctc_decode(yhat, [75,75], greedy=False)[0][0].numpy()\n",
        "        for x in range(len(yhat)):\n",
        "            print('Original:', tf.strings.reduce_join(num_to_char(data[1][x])).numpy().decode('utf-8'))\n",
        "            print('Prediction:', tf.strings.reduce_join(num_to_char(decoded[x])).numpy().decode('utf-8'))\n",
        "            print('~'*100)\n"
      ]
    },
    {
      "cell_type": "code",
      "execution_count": null,
      "metadata": {
        "id": "T7BNLacPwl98"
      },
      "outputs": [],
      "source": [
        "model.compile(optimizer=Adam(learning_rate=0.0001), loss=CTCLoss)"
      ]
    },
    {
      "cell_type": "code",
      "execution_count": null,
      "metadata": {
        "id": "PJGuN1YVwzR2"
      },
      "outputs": [],
      "source": [
        "checkpoint_callback = ModelCheckpoint(os.path.join('models','checkpoint'), monitor='loss', save_weights_only=True)\n"
      ]
    },
    {
      "cell_type": "code",
      "execution_count": null,
      "metadata": {
        "id": "WdbE9E1hw1LW"
      },
      "outputs": [],
      "source": [
        "schedule_callback = LearningRateScheduler(scheduler)"
      ]
    },
    {
      "cell_type": "code",
      "execution_count": null,
      "metadata": {
        "id": "pwIV77ZXw3Jz"
      },
      "outputs": [],
      "source": [
        "example_callback = ProduceExample(test)"
      ]
    },
    {
      "cell_type": "code",
      "execution_count": null,
      "metadata": {
        "colab": {
          "background_save": true,
          "base_uri": "https://localhost:8080/"
        },
        "id": "vCDQ-WjZw5AN",
        "outputId": "3e52b25a-a2e8-4e64-c2d5-79cb21236819"
      },
      "outputs": [
        {
          "output_type": "stream",
          "name": "stdout",
          "text": [
            "Epoch 1/100\n",
            "450/450 [==============================] - ETA: 0s - loss: 83.7812"
          ]
        }
      ],
      "source": [
        "model.fit(train, validation_data=test, epochs=100, callbacks=[checkpoint_callback, schedule_callback, example_callback])"
      ]
    },
    {
      "cell_type": "markdown",
      "metadata": {
        "id": "G1HzQIU1y9A_"
      },
      "source": [
        "Make a Prediction"
      ]
    },
    {
      "cell_type": "code",
      "execution_count": null,
      "metadata": {
        "id": "a-L8aOn-zEAA"
      },
      "outputs": [],
      "source": [
        "url = 'https://drive.google.com/uc?id=1vWscXs4Vt0a_1IH1-ct2TCgXAZT-N3_Y'\n",
        "output = 'checkpoints.zip'\n",
        "gdown.download(url, output, quiet=False)\n",
        "gdown.extractall('checkpoints.zip', 'models')"
      ]
    },
    {
      "cell_type": "code",
      "execution_count": null,
      "metadata": {
        "id": "ZzK3eZuYzHYb"
      },
      "outputs": [],
      "source": [
        "model.load_weights('models/checkpoint')"
      ]
    },
    {
      "cell_type": "code",
      "execution_count": null,
      "metadata": {
        "id": "Y9d0f8L3zK5b"
      },
      "outputs": [],
      "source": [
        "test_data = test.as_numpy_iterator()"
      ]
    },
    {
      "cell_type": "code",
      "execution_count": null,
      "metadata": {
        "id": "X1cdIfZ-zNU5"
      },
      "outputs": [],
      "source": [
        "sample = test_data.next()"
      ]
    },
    {
      "cell_type": "code",
      "execution_count": null,
      "metadata": {
        "id": "2AI3AMNhz2p4"
      },
      "outputs": [],
      "source": [
        "yhat = model.predict(sample[0])"
      ]
    },
    {
      "cell_type": "code",
      "execution_count": null,
      "metadata": {
        "id": "qtxluDJ5z7Lh"
      },
      "outputs": [],
      "source": [
        "print('~'*100, 'REAL TEXT')\n",
        "[tf.strings.reduce_join([num_to_char(word) for word in sentence]) for sentence in sample[1]]"
      ]
    },
    {
      "cell_type": "code",
      "execution_count": null,
      "metadata": {
        "id": "9ypehG8g2dlg"
      },
      "outputs": [],
      "source": [
        "decoded = tf.keras.backend.ctc_decode(yhat, input_length=[75,75], greedy=True)[0][0].numpy()"
      ]
    },
    {
      "cell_type": "code",
      "execution_count": null,
      "metadata": {
        "id": "v9yIjCGe2-9p"
      },
      "outputs": [],
      "source": [
        "print('~'*100, 'PREDICTIONS')\n",
        "[tf.strings.reduce_join([num_to_char(word) for word in sentence]) for sentence in decoded]"
      ]
    },
    {
      "cell_type": "markdown",
      "metadata": {
        "id": "a3sEBfdQ3EfI"
      },
      "source": [
        "Test on a Video\n"
      ]
    },
    {
      "cell_type": "code",
      "execution_count": null,
      "metadata": {
        "id": "wydDOdUC3CRn"
      },
      "outputs": [],
      "source": [
        "sample = load_data(tf.convert_to_tensor('.\\\\data\\\\s1\\\\bras9a.mpg'))"
      ]
    },
    {
      "cell_type": "code",
      "execution_count": null,
      "metadata": {
        "id": "4xa68s4y3MAd"
      },
      "outputs": [],
      "source": [
        "print('~'*100, 'REAL TEXT')\n",
        "[tf.strings.reduce_join([num_to_char(word) for word in sentence]) for sentence in [sample[1]]]"
      ]
    },
    {
      "cell_type": "code",
      "execution_count": null,
      "metadata": {
        "id": "an5Jpxhi3Onk"
      },
      "outputs": [],
      "source": [
        "yhat = model.predict(tf.expand_dims(sample[0], axis=0))"
      ]
    },
    {
      "cell_type": "code",
      "execution_count": null,
      "metadata": {
        "id": "E6nqbr4h3e4O"
      },
      "outputs": [],
      "source": [
        "decoded = tf.keras.backend.ctc_decode(yhat, input_length=[75], greedy=True)[0][0].numpy()"
      ]
    },
    {
      "cell_type": "code",
      "execution_count": null,
      "metadata": {
        "id": "quae7HLT4tGE"
      },
      "outputs": [],
      "source": [
        "print('~'*100, 'PREDICTIONS')\n",
        "[tf.strings.reduce_join([num_to_char(word) for word in sentence]) for sentence in decoded]"
      ]
    }
  ],
  "metadata": {
    "colab": {
      "provenance": [],
      "gpuType": "T4",
      "include_colab_link": true
    },
    "kernelspec": {
      "display_name": "Python 3",
      "name": "python3"
    },
    "language_info": {
      "name": "python"
    },
    "accelerator": "GPU"
  },
  "nbformat": 4,
  "nbformat_minor": 0
}